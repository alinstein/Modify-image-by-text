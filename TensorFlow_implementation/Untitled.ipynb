{
 "cells": [
  {
   "cell_type": "code",
   "execution_count": 1,
   "metadata": {
    "collapsed": false
   },
   "outputs": [],
   "source": [
    "import argparse\n",
    "import sys\n",
    "import time\n",
    "import os\n",
    "import datasets\n",
    "import img_text_composition_models\n",
    "import numpy as np\n",
    "from tensorboardX import SummaryWriter\n",
    "import test_retrieval\n",
    "import torch\n",
    "import torch.utils.data\n",
    "import torchvision\n",
    "from tqdm import tqdm as tqdm\n",
    "from new_main import parse_opt, str2bool,load_dataset"
   ]
  },
  {
   "cell_type": "code",
   "execution_count": 2,
   "metadata": {
    "collapsed": false
   },
   "outputs": [],
   "source": [
    "import PIL\n",
    "import skimage.io\n",
    "split='train'\n",
    "path='../CSS'\n",
    "img_path = path + '/images/'\n",
    "img_path = img_path + ('/css_%s_%06d.png' % (split, int(3)))\n",
    "opt = parse_opt()"
   ]
  },
  {
   "cell_type": "code",
   "execution_count": 3,
   "metadata": {
    "collapsed": false
   },
   "outputs": [],
   "source": [
    "import datasets\n",
    "import tensorflow as tf\n",
    "\n",
    "# You'll generate plots of attention in order to see which parts of an image\n",
    "# our model focuses on during captioning\n",
    "import matplotlib.pyplot as plt\n",
    "\n",
    "# Scikit-learn includes many helpful utilities\n",
    "from sklearn.model_selection import train_test_split\n",
    "from sklearn.utils import shuffle\n",
    "\n",
    "import re\n",
    "import numpy as np\n",
    "import os\n",
    "import time\n",
    "import json\n",
    "from glob import glob\n",
    "from PIL import Image\n",
    "import pickle"
   ]
  },
  {
   "cell_type": "code",
   "execution_count": 4,
   "metadata": {
    "collapsed": false
   },
   "outputs": [],
   "source": [
    "\n",
    "class BaseDataset():\n",
    "  \"\"\"Base class for a dataset.\"\"\"\n",
    "\n",
    "  def __init__(self):\n",
    "    super(BaseDataset, self).__init__()\n",
    "    # image set\n",
    "    self.imgs = []\n",
    "    # tesr set\n",
    "    self.test_queries = []\n",
    "\n",
    "  def get_test_queries(self):\n",
    "    return self.test_queries\n",
    "\n",
    "  def get_all_texts(self):\n",
    "    raise NotImplementedError\n",
    "\n",
    "  def __getitem__(self, idx):\n",
    "  \n",
    "    return self.generate_random_query_target()\n",
    "  def load_data(self):\n",
    "        return self.generate_random_query_target()\n",
    "        \n",
    "\n",
    "  def generate_random_query_target(self):\n",
    "    raise NotImplementedError\n",
    "\n",
    "  def get_img(self, idx, raw_img=False):\n",
    "    raise NotImplementedError\n",
    "\n",
    "\n",
    "class CSSDataset(BaseDataset):\n",
    "  \"\"\"CSS dataset.\"\"\"\n",
    "\n",
    "  def __init__(self, path, split='train', transform=None):\n",
    "    super(CSSDataset, self).__init__()\n",
    "    # location of images\n",
    "    path=str(path)\n",
    "    self.img_path = (path) + '/images/'\n",
    "    # transformation variable\n",
    "    self.transform = transform\n",
    "    self.split = split\n",
    "    # loading the numpy file\n",
    "    #changed in numpy format\n",
    "    self.data = np.load(path + '/css_toy_dataset_novel2_small.dup.npy',encoding='latin1',allow_pickle=True).item()\n",
    "    # selecting mods as per split (train of test)\n",
    "    # mod- modification, number of mods and object_img are different here\n",
    "    self.mods = self.data[self.split]['mods']\n",
    "    self.imgs = []\n",
    "    # retriving image and labels from the dataset\n",
    "    #change has_key to 'in' for python3\n",
    "    #Stores the objects and labels and caption in list - image\n",
    "    for objects in self.data[self.split]['objects_img']:\n",
    "      label = len(self.imgs)\n",
    "      if ('labels') in self.data[self.split]:\n",
    "                label = self.data[self.split]['labels'][label]\n",
    "\n",
    "      self.imgs += [{\n",
    "          'objects': objects,\n",
    "          'label': label,\n",
    "          'captions': [str(label)]\n",
    "          }]\n",
    "\n",
    "    self.imgid2modtarget = {}\n",
    "    for i in range(len(self.imgs)):\n",
    "      self.imgid2modtarget[i] = []\n",
    "    #Make combination of (from - to)\n",
    "    # it seems that for each object has more than one from-to elements\n",
    "    for i, mod in enumerate(self.mods):\n",
    "      for k in range(len(mod['from'])):\n",
    "        f = mod['from'][k]\n",
    "        t = mod['to'][k]\n",
    "        self.imgid2modtarget[f] += [(i, t)]\n",
    "\n",
    "    self.generate_test_queries_()\n",
    "\n",
    "  #This function combines 'from id' , 'to_id' and 'caption'\n",
    "  # {'source_img_id': 798, 'target_caption': '1000', 'mod': {'str': 'make middle-left large circle green'}}\n",
    "  def generate_test_queries_(self):\n",
    "    print(\"generate_test_queries_\")\n",
    "    test_queries = []\n",
    "    for mod in self.mods:\n",
    "      for i, j in zip(mod['from'], mod['to']):\n",
    "        test_queries += [{\n",
    "            'source_img_id': i,\n",
    "            'target_caption': self.imgs[j]['captions'][0],\n",
    "            'mod': {'str': mod['to_str']}\n",
    "        }]\n",
    "    self.test_queries = test_queries\n",
    "\n",
    "  def get_1st_training_query(self):\n",
    "   \n",
    "    #randomly selecting a mod, where i mod index \n",
    "    #j is index for selection of from and to image \n",
    "    i = np.random.randint(0, len(self.mods))\n",
    "    mod = self.mods[i]\n",
    "    j = np.random.randint(0, len(mod['from']))\n",
    "    self.last_from = mod['from'][j]\n",
    "    self.last_mod = [i]\n",
    "    return mod['from'][j], i, mod['to'][j]\n",
    "\n",
    "  def get_2nd_training_query(self):\n",
    "    #last_from is the varible stores the index of 'from' image from previous training query\n",
    "    modid, new_to = random.choice(self.imgid2modtarget[self.last_from])\n",
    "    #if modid is already used choose a new one\n",
    "    while modid in self.last_mod:\n",
    "      modid, new_to = random.choice(self.imgid2modtarget[self.last_from])\n",
    "    #Once this is used it is added into last_mod so that it won't used again\n",
    "    self.last_mod += [modid]\n",
    "    # mod = self.mods[modid]\n",
    "    return self.last_from, modid, new_to\n",
    "\n",
    "  def generate_random_query_target(self):\n",
    "    #when last_mod is not intialized get_1st_training_query is called\n",
    "    # once last_mod == 2, get_1st_training_query is called and last_mod is reset to [] empty\n",
    "    \n",
    "    try:\n",
    "      \n",
    "      if len(self.last_mod) < 2:\n",
    "        \n",
    "        img1id, modid, img2id = self.get_2nd_training_query()\n",
    "\n",
    "      else:\n",
    "        img1id, modid, img2id = self.get_1st_training_query()\n",
    "       \n",
    "        \n",
    "    except:\n",
    "      img1id, modid, img2id = self.get_1st_training_query()\n",
    "     \n",
    "\n",
    "    out = {}\n",
    "    out['source_img_id'] = img1id\n",
    "    #create the source image\n",
    "    #out['source_img_data'] = self.get_img(img1id)\n",
    "    out['target_img_id'] = img2id\n",
    "    #create the target image \n",
    "    #out['target_img_data'] = self.get_img(img2id)\n",
    "    #output image contain source image,target image and modification string and their corresponding ids\n",
    "    out['mod'] = {'id': modid, 'str': self.mods[modid]['to_str']}\n",
    "    return out\n",
    "\n",
    "  def __len__(self):\n",
    "    return len(self.imgs)\n",
    "\n",
    "  def get_all_texts(self):\n",
    "    return [mod['to_str'] for mod in self.mods]\n",
    "\n",
    "  def get_img(self, idx, raw_img=False, get_2d=False):\n",
    "    \"\"\"Gets CSS images.\"\"\"\n",
    "    def generate_2d_image(objects):\n",
    "      img = np.ones((64, 64, 3))\n",
    "      colortext2values = {\n",
    "          'gray': [87, 87, 87],\n",
    "          'red': [244, 35, 35],\n",
    "          'blue': [42, 75, 215],\n",
    "          'green': [29, 205, 20],\n",
    "          'brown': [129, 74, 25],\n",
    "          'purple': [129, 38, 192],\n",
    "          'cyan': [41, 208, 208],\n",
    "          'yellow': [255, 238, 51]\n",
    "      }\n",
    "      for obj in objects:\n",
    "        s = 4.0\n",
    "        if obj['size'] == 'large':\n",
    "          s *= 2\n",
    "        c = [0, 0, 0]\n",
    "        for j in range(3):\n",
    "          c[j] = 1.0 * colortext2values[obj['color']][j] / 255.0\n",
    "        y = obj['pos'][0] * img.shape[0]\n",
    "        x = obj['pos'][1] * img.shape[1]\n",
    "        if obj['shape'] == 'rectangle':\n",
    "          img[int(y - s):int(y + s), int(x - s):int(x + s), :] = c\n",
    "        if obj['shape'] == 'circle':\n",
    "          for y0 in range(int(y - s), int(y + s) + 1):\n",
    "            x0 = x + (abs(y0 - y) - s)\n",
    "            x1 = 2 * x - x0\n",
    "            img[y0, int(x0):int(x1), :] = c\n",
    "        if obj['shape'] == 'triangle':\n",
    "          for y0 in range(int(y - s), int(y + s)):\n",
    "            x0 = x + (y0 - y + s) / 2\n",
    "            x1 = 2 * x - x0\n",
    "            x0, x1 = min(x0, x1), max(x0, x1)\n",
    "            img[y0, int(x0):int(x1), :] = c\n",
    "      return img\n",
    "\n",
    "    if self.img_path is None or get_2d:\n",
    "      img = generate_2d_image(self.imgs[idx]['objects'])\n",
    "    else:\n",
    "      img_path = self.img_path + ('/css_%s_%06d.png' % (self.split, int(idx)))\n",
    "      with open(img_path, 'rb') as f:\n",
    "        img = Image.open(f)\n",
    "        img = img.convert('RGB')\n",
    "        img = img.resize((224,224))\n",
    "        img = tf.keras.preprocessing.image.img_to_array(\n",
    "                img)\n",
    "        img = tf.image.per_image_standardization(img)\n",
    "\n",
    "    if raw_img:\n",
    "      return img\n",
    "    if self.transform:\n",
    "      img = self.transform(img)\n",
    "    return img"
   ]
  },
  {
   "cell_type": "code",
   "execution_count": 5,
   "metadata": {
    "collapsed": false,
    "scrolled": true
   },
   "outputs": [
    {
     "data": {
      "text/plain": [
       "'../CSS/images//css_train_000003.png'"
      ]
     },
     "execution_count": 5,
     "metadata": {},
     "output_type": "execute_result"
    }
   ],
   "source": [
    "img_path"
   ]
  },
  {
   "cell_type": "code",
   "execution_count": 6,
   "metadata": {
    "collapsed": false
   },
   "outputs": [
    {
     "name": "stdout",
     "output_type": "stream",
     "text": [
      "generate_test_queries_\n"
     ]
    }
   ],
   "source": [
    "testset = CSSDataset(\n",
    "        path=opt.dataset_path,\n",
    "        split='test')\n",
    "xx = testset.get_test_queries()\n",
    "metadataT={}\n",
    "metadataT['mod']=[]\n",
    "metadataT['source_img_id']=[]\n",
    "metadataT['target_caption']=[]\n",
    "\n",
    "all_img_name_vector = []\n",
    "for x in (xx):\n",
    "    data=x\n",
    "    metadataT['target_caption'].append(data['target_caption'])\n",
    "    source_img_id=data['source_img_id']\n",
    "    metadataT['source_img_id'].append(('../CSS/images/css_%s_%06d.png' % (split, int(source_img_id))))\n",
    "    mod_str=data['mod']['str']\n",
    "    metadataT['mod'].append(mod_str)"
   ]
  },
  {
   "cell_type": "code",
   "execution_count": 7,
   "metadata": {
    "collapsed": true
   },
   "outputs": [],
   "source": [
    "test_dataset=tf.data.Dataset.from_tensor_slices(metadataT)"
   ]
  },
  {
   "cell_type": "code",
   "execution_count": 8,
   "metadata": {
    "collapsed": false
   },
   "outputs": [
    {
     "ename": "NameError",
     "evalue": "name 'test' is not defined",
     "output_type": "error",
     "traceback": [
      "\u001b[0;31m---------------------------------------------------------------------------\u001b[0m",
      "\u001b[0;31mNameError\u001b[0m                                 Traceback (most recent call last)",
      "\u001b[0;32m<ipython-input-8-1635a29e1d4d>\u001b[0m in \u001b[0;36m<module>\u001b[0;34m\u001b[0m\n\u001b[1;32m      8\u001b[0m \u001b[0mtests\u001b[0m \u001b[0;34m=\u001b[0m \u001b[0;34m[\u001b[0m\u001b[0;34m]\u001b[0m\u001b[0;34m\u001b[0m\u001b[0m\n\u001b[1;32m      9\u001b[0m \u001b[0;32mfor\u001b[0m \u001b[0mname\u001b[0m\u001b[0;34m,\u001b[0m \u001b[0mdataset\u001b[0m \u001b[0;32min\u001b[0m \u001b[0;34m[\u001b[0m \u001b[0;34m(\u001b[0m\u001b[0;34m'test'\u001b[0m\u001b[0;34m,\u001b[0m \u001b[0mtestset\u001b[0m\u001b[0;34m)\u001b[0m\u001b[0;34m]\u001b[0m\u001b[0;34m:\u001b[0m\u001b[0;34m\u001b[0m\u001b[0m\n\u001b[0;32m---> 10\u001b[0;31m     \u001b[0mt\u001b[0m \u001b[0;34m=\u001b[0m \u001b[0mtest\u001b[0m\u001b[0;34m(\u001b[0m\u001b[0mopt\u001b[0m\u001b[0;34m,\u001b[0m \u001b[0mTIRGmodel\u001b[0m\u001b[0;34m,\u001b[0m\u001b[0mimg_extractor\u001b[0m\u001b[0;34m,\u001b[0m\u001b[0mtext_model\u001b[0m\u001b[0;34m,\u001b[0m \u001b[0mdataset\u001b[0m\u001b[0;34m)\u001b[0m\u001b[0;34m\u001b[0m\u001b[0m\n\u001b[0m\u001b[1;32m     11\u001b[0m     tests += [(name + ' ' + metric_name, metric_value)\n\u001b[1;32m     12\u001b[0m               for metric_name, metric_value in t]\n",
      "\u001b[0;31mNameError\u001b[0m: name 'test' is not defined"
     ]
    }
   ],
   "source": [
    "# text_features=text_model(x['mod_str'])\n",
    "# imgS=img_extractor(x['source'])\n",
    "# imgT=img_extractor(x['target'])\n",
    "\n",
    "# C_feature=TIRGmodel(text_features, imgS)\n",
    "# loss=compute_soft_triplet_loss_(C_feature,imgT)\n",
    "\n",
    "tests = []\n",
    "for name, dataset in [ ('test', testset)]:\n",
    "    t = test(opt, TIRGmodel,img_extractor,text_model, dataset)\n",
    "    tests += [(name + ' ' + metric_name, metric_value)\n",
    "              for metric_name, metric_value in t]\n",
    "for metric_name, metric_value in tests:\n",
    "    \n",
    "    print ('    ', metric_name, round(metric_value, 4))"
   ]
  },
  {
   "cell_type": "code",
   "execution_count": null,
   "metadata": {
    "collapsed": false
   },
   "outputs": [],
   "source": [
    "for metric_name, metric_value in tests:\n",
    "    \n",
    "    print ('    ', metric_name, round(metric_value, 4))"
   ]
  },
  {
   "cell_type": "code",
   "execution_count": 9,
   "metadata": {
    "collapsed": true
   },
   "outputs": [],
   "source": [
    "import numpy as np\n",
    "import torch\n",
    "from tqdm import tqdm as tqdm\n",
    "\n",
    "\n",
    "def test(opt, TIRG_m,IMG_m,Text_m, testset):\n",
    "  \"\"\"Tests a model over the given testset.\"\"\"\n",
    "  \n",
    "  test_queries = testset.get_test_queries()\n",
    "\n",
    "  all_imgs = []\n",
    "  all_captions = []\n",
    "  all_queries = []\n",
    "  all_target_captions = []\n",
    "  if test_queries:\n",
    " \n",
    "    # compute test query features\n",
    "    imgs = []\n",
    "    mods = []\n",
    "    #this loop appends the test_queries till it reaches the batch size \n",
    "    #and extract the features from the image and test using test model \n",
    "    for t in tqdm(test_queries):\n",
    "      #retriving the source image from id( or creating the image)\n",
    "      imgs += [testset.get_img(t['source_img_id'])]\n",
    "      mods += [t['mod']['str']]\n",
    "      # print(\"____________testing______________\")\n",
    "      # print(\"img___length    \",len(imgs))\n",
    "      # print(\"img___\\n    \",(mods))\n",
    "    \n",
    "\n",
    "      if len(imgs) >= opt.batch_size or t is test_queries[-1]:\n",
    "        # print(\"INside loop 1\")\n",
    "        if 'torch' not in str(type(imgs[0])):\n",
    "          imgs = [(d) for d in imgs]\n",
    "        imgs = tf.stack(imgs)\n",
    "        # imgs = torch.autograd.Variable(imgs).cuda()\n",
    "        mods = [t for t in mods]\n",
    "        img_f = IMG_m(imgs)\n",
    "        Text_f = Text_m(mods) \n",
    "        f= TIRG_m(img_f,Text_f)\n",
    "        #f = model.compose_img_text(imgs, mods).data.cpu().numpy()\n",
    "        all_queries += [f]\n",
    "        imgs = []\n",
    "        mods = []\n",
    "        # print(\"f    \",len(f))\n",
    "        # print(\"img___\\n    \",len(all_queries))\n",
    "        \n",
    "    all_queries = np.concatenate(all_queries)\n",
    "    all_target_captions = [t['target_caption'] for t in test_queries]\n",
    "   \n",
    "    \n",
    "    # compute all image features for target\n",
    "    imgs = []\n",
    "    for i in tqdm(range(len(testset.imgs))):\n",
    "      imgs += [testset.get_img(i)]\n",
    "      if len(imgs) >= opt.batch_size or i == len(testset.imgs) - 1:\n",
    "        if 'torch' not in str(type(imgs[0])):\n",
    "          imgs = [(d) for d in imgs]\n",
    "        \n",
    "        imgs = tf.stack(imgs)\n",
    "        #imgs = torch.autograd.Variable(imgs).cuda()\n",
    "\n",
    "        imgs = IMG_m(imgs)\n",
    "        #imgs = model.extract_img_feature(imgs).data.cpu().numpy()\n",
    "        all_imgs += [imgs]\n",
    "        imgs = []\n",
    "    all_imgs = np.concatenate(all_imgs)\n",
    "    all_captions = [img['captions'][0] for img in testset.imgs]\n",
    "\n",
    "  else:\n",
    "    print(\"Testing on Training data\")\n",
    "    # use training queries to approximate training retrieval performance\n",
    "    imgs0 = []\n",
    "    imgs = []\n",
    "    mods = []\n",
    "    for i in range(10000):\n",
    "      item = testset[i]\n",
    "      imgs += [item['source_img_data']]\n",
    "      mods += [item['mod']['str']]\n",
    "      if len(imgs) > opt.batch_size or i == 9999:\n",
    "        imgs = tf.stack(imgs)\n",
    "        #imgs = torch.autograd.Variable(imgs)\n",
    "        mods = [t for t in mods]\n",
    "        \n",
    "        img_f = IMG_m(imgs)\n",
    "        Text_f = Text_m(mods) \n",
    "        f= TIRG_m(img_f,Text_f)\n",
    "        \n",
    "        all_queries += [f]\n",
    "        imgs = []\n",
    "        mods = []\n",
    "      imgs0 += [item['target_img_data']]\n",
    "      if len(imgs0) > opt.batch_size or i == 9999:\n",
    "        imgs0 = tf.stack(imgs0)\n",
    "        imgs0 = IMG_m(imgs0)\n",
    "        #imgs0 = model.extract_img_feature(imgs0.cuda()).data.cpu().numpy()\n",
    "        \n",
    "\n",
    "        all_imgs += [imgs0]\n",
    "        imgs0 = []\n",
    "      all_captions += [item['target_caption']]\n",
    "      all_target_captions += [item['target_caption']]\n",
    "    all_imgs = np.concatenate(all_imgs)\n",
    "    all_queries = np.concatenate(all_queries)\n",
    "\n",
    "  # feature normalization\n",
    "  for i in range(all_queries.shape[0]):\n",
    "    all_queries[i, :] /= np.linalg.norm(all_queries[i, :])\n",
    "  for i in range(all_imgs.shape[0]):\n",
    "    all_imgs[i, :] /= np.linalg.norm(all_imgs[i, :])\n",
    "\n",
    "  # match test queries to target images, get nearest neighbors\n",
    "  sims = all_queries.dot(all_imgs.T)\n",
    "  #print(\"shape of sims\",sims.shape)\n",
    "  if test_queries:\n",
    "    for i, t in enumerate(test_queries):\n",
    "      sims[i, t['source_img_id']] = -10e10  # remove query image\n",
    "\n",
    "  #print(\"before\")    \n",
    "  nn_result = [np.argsort(-sims[i, :])[:110] for i in range(sims.shape[0])]\n",
    "\n",
    "  #print(\"after\")\n",
    "\n",
    "  #print(\"____nn_results\\n\")\n",
    "  #print(nn_result[0])\n",
    "  #print(len(nn_result))\n",
    "  # compute recalls\n",
    "  out = []\n",
    "  nn_result = [[all_captions[nn] for nn in nns] for nns in nn_result]\n",
    "  #print(\"__Again__nn_results\\n\")\n",
    "  #print(len(nn_result))\n",
    "  #print(nn_result[0])\n",
    "  for k in [1, 5, 10, 50, 100]:\n",
    "    #print(\"loop \",k)\n",
    "    r = 0.0\n",
    "    for i, nns in enumerate(nn_result):\n",
    "      if all_target_captions[i] in nns[:k]:\n",
    "        # if i==0:\n",
    "        #   print(\"all T captions\",all_target_captions[i])\n",
    "        #   print(\"all nns\",nns[:k])\n",
    "        #   print(\"location\", ((all_target_captions[i]  == nns[:k]).nonzero()))\n",
    "        r += 1\n",
    "    r /= len(nn_result)\n",
    "    out += [('recall_top' + str(k) + '_correct_composition', r)]\n",
    "  return out"
   ]
  },
  {
   "cell_type": "code",
   "execution_count": 10,
   "metadata": {
    "collapsed": false
   },
   "outputs": [
    {
     "name": "stdout",
     "output_type": "stream",
     "text": [
      "generate_test_queries_\n"
     ]
    }
   ],
   "source": [
    "split='train'\n",
    "xx=CSSDataset(opt.dataset_path)\n",
    "metadata={}\n",
    "metadata['target_img_id']=[]\n",
    "metadata['source_img_id']=[]\n",
    "metadata['mod_id']=[]\n",
    "metadata['mod_str']=[]\n",
    "\n",
    "all_img_name_vector = []\n",
    "for x in range(len(xx)):\n",
    "    image_id = ('../CSS/images/css_%s_%06d.png' % (split, int(x)))\n",
    "    all_img_name_vector.append(image_id)\n",
    "    \n",
    "    data=xx.generate_random_query_target()\n",
    "    target_img_id=data['target_img_id']\n",
    "    metadata['target_img_id'].append(('../CSS/images/css_%s_%06d.png' % (split, int(target_img_id))))\n",
    "    source_img_id=data['source_img_id']\n",
    "    metadata['source_img_id'].append(('../CSS/images/css_%s_%06d.png' % (split, int(source_img_id))))\n",
    "    mod_id=data['mod']['id']\n",
    "    metadata['mod_id'].append(mod_id)\n",
    "    mod_str=data['mod']['str']\n",
    "    metadata['mod_str'].append(mod_str)"
   ]
  },
  {
   "cell_type": "code",
   "execution_count": 11,
   "metadata": {
    "collapsed": false,
    "scrolled": true
   },
   "outputs": [],
   "source": [
    "# trainset = CSSDataset(\n",
    "#         path=opt.dataset_path)\n",
    "# len(trainset.imgs)"
   ]
  },
  {
   "cell_type": "code",
   "execution_count": 12,
   "metadata": {
    "collapsed": false
   },
   "outputs": [],
   "source": [
    "# iter(trainset)"
   ]
  },
  {
   "cell_type": "code",
   "execution_count": 13,
   "metadata": {
    "collapsed": false
   },
   "outputs": [],
   "source": [
    "# len(trainset)"
   ]
  },
  {
   "cell_type": "code",
   "execution_count": 14,
   "metadata": {
    "collapsed": false
   },
   "outputs": [],
   "source": [
    "# len(metadata['mod_id'])"
   ]
  },
  {
   "cell_type": "code",
   "execution_count": 15,
   "metadata": {
    "collapsed": false
   },
   "outputs": [],
   "source": [
    "def load_image(metadata):  \n",
    "    split='train'\n",
    "    target_img=metadata['target_img_id']\n",
    "    source_img=metadata['source_img_id']\n",
    "    mod_id=metadata['mod_id']\n",
    "    mod_str=metadata['mod_str']\n",
    " \n",
    "    img=tf.io.read_file(source_img, name=None)\n",
    "    s_img = tf.image.decode_png(img, channels=3)\n",
    "    #_img=tf.image.per_image_standardization(s_img)\n",
    "    s_img = tf.image.convert_image_dtype(s_img, tf.float32)\n",
    "    s_img=tf.image.resize(s_img, [224,224]) \n",
    "    img=tf.io.read_file(target_img, name=None)\n",
    "    #mg=tf.image.per_image_standardization(img)\n",
    "    t_img = tf.image.decode_png(img, channels=3)\n",
    "    t_img = tf.image.convert_image_dtype(t_img, tf.float32)\n",
    "    t_img=tf.image.resize(t_img, [224,224]) \n",
    "    return {'target':t_img,'source':s_img,'mod_id':mod_id,'mod_str':mod_str}\n",
    "\n"
   ]
  },
  {
   "cell_type": "code",
   "execution_count": 16,
   "metadata": {
    "collapsed": false
   },
   "outputs": [],
   "source": [
    "image_dataset=tf.data.Dataset.from_tensor_slices(metadata)"
   ]
  },
  {
   "cell_type": "code",
   "execution_count": 17,
   "metadata": {
    "collapsed": false
   },
   "outputs": [],
   "source": [
    "image_dataset = image_dataset.map(load_image).batch(32)"
   ]
  },
  {
   "cell_type": "code",
   "execution_count": 18,
   "metadata": {
    "collapsed": true
   },
   "outputs": [],
   "source": [
    "it = iter(image_dataset)"
   ]
  },
  {
   "cell_type": "code",
   "execution_count": 19,
   "metadata": {
    "collapsed": false
   },
   "outputs": [
    {
     "data": {
      "text/plain": [
       "<matplotlib.image.AxesImage at 0x7f62e599c4a8>"
      ]
     },
     "execution_count": 19,
     "metadata": {},
     "output_type": "execute_result"
    },
    {
     "data": {
      "image/png": "[encoded data removed]",
      "text/plain": [
       "<Figure size 432x288 with 1 Axes>"
      ]
     },
     "metadata": {
      "needs_background": "light"
     },
     "output_type": "display_data"
    }
   ],
   "source": [
    "x=next(it)\n",
    "plt.imshow(x['source'][4])"
   ]
  },
  {
   "cell_type": "code",
   "execution_count": 20,
   "metadata": {
    "collapsed": false
   },
   "outputs": [
    {
     "name": "stdout",
     "output_type": "stream",
     "text": [
      "0.93818414\n",
      "0.07314482\n"
     ]
    },
    {
     "data": {
      "text/plain": [
       "<matplotlib.image.AxesImage at 0x7f62e40ce748>"
      ]
     },
     "execution_count": 20,
     "metadata": {},
     "output_type": "execute_result"
    },
    {
     "data": {
      "image/png": "[encoded data removed]",
      "text/plain": [
       "<Figure size 432x288 with 1 Axes>"
      ]
     },
     "metadata": {
      "needs_background": "light"
     },
     "output_type": "display_data"
    }
   ],
   "source": [
    "\n",
    "print(np.max(x['target']))\n",
    "print(np.min(x['target']))\n",
    "plt.imshow(x['target'][4])"
   ]
  },
  {
   "cell_type": "code",
   "execution_count": 21,
   "metadata": {
    "collapsed": false
   },
   "outputs": [
    {
     "data": {
      "text/plain": [
       "<tf.Tensor: shape=(), dtype=string, numpy=b'make large purple object gray'>"
      ]
     },
     "execution_count": 21,
     "metadata": {},
     "output_type": "execute_result"
    }
   ],
   "source": [
    "x['mod_str'][4]"
   ]
  },
  {
   "cell_type": "code",
   "execution_count": 22,
   "metadata": {
    "collapsed": false
   },
   "outputs": [],
   "source": [
    "import tensorflow_hub as hub\n",
    "model = tf.keras.Sequential()\n",
    "\n",
    "class ResnetIdentityBlock(tf.keras.Model):\n",
    "      def __init__(self):\n",
    "        self.embed_dim=2048    \n",
    "        super(ResnetIdentityBlock, self).__init__(name='')\n",
    "        #filters1, filters2, filters3 = filters\n",
    "        self.imgm=hub.KerasLayer(\"https://tfhub.dev/google/imagenet/resnet_v2_50/feature_vector/4\",\n",
    "               trainable=False, arguments=dict(batch_norm_momentum=0.997))\n",
    "        self.bn2a  = tf.keras.layers.BatchNormalization()\n",
    "        #self.linear = tf.keras.layers.Dense(embed_dim, input_shape=(2048,))\n",
    "    \n",
    "\n",
    "      def call(self, input_tensor, training=False):\n",
    "        x = self.imgm(input_tensor)\n",
    "        x = self.bn2a(x, training=False)\n",
    "        return x\n",
    "\n",
    "\n",
    "class NormalizationLayer(tf.keras.Model):\n",
    "  \"\"\"Class for normalization layer.\"\"\"\n",
    "  def __init__(self, normalize_scale=4.0, learn_scale=True):\n",
    "    super(NormalizationLayer, self).__init__()\n",
    "    self.norm_s = float(normalize_scale)\n",
    "    if learn_scale:\n",
    "        self.norm_s = tf.Variable(self.norm_s, name='Normweights')\n",
    "\n",
    "  def call(self, x):\n",
    "\n",
    "    features = (self.norm_s * tf.math.l2_normalize(    x, axis=1, epsilon=1e-12 ))\n",
    "\n",
    "    #features = self.norm_s * x / torch.norm(x, dim=1, keepdim=True).expand_as(x)\n",
    "    return features\n",
    "\n",
    "\n",
    "# class MyDenseLayer(tf.keras.layers.Layer):\n",
    "#   def __init__(self, num_outputs):\n",
    "#     super(MyDenseLayer, self).__init__()\n",
    "#     self.num_outputs = num_outputs\n",
    "\n",
    "#   def build(self, input_shape):\n",
    "#     self.kernel = self.add_weight(\"kernel\",\n",
    "#                                     shape=[int(input_shape[-1]),\n",
    "#                                            self.num_outputs])\n",
    "\n",
    "#   def call(self, input):\n",
    "#     return tf.matmul(input, self.kernel)\n",
    "\n",
    "my_seq = tf.keras.Sequential([ResnetIdentityBlock(),NormalizationLayer()])\n",
    "my_seq2 = tf.keras.Sequential([ResnetIdentityBlock()])\n",
    "\n",
    "#layer = MyDenseLayer(10)"
   ]
  },
  {
   "cell_type": "code",
   "execution_count": 23,
   "metadata": {
    "collapsed": false
   },
   "outputs": [
    {
     "name": "stdout",
     "output_type": "stream",
     "text": [
      "(32, 2048)\n",
      "(32, 2048)\n"
     ]
    }
   ],
   "source": [
    "y=my_seq(x['target']) \n",
    "y2=my_seq2(x['target']) \n",
    "print(y2.shape)\n",
    "print(y.shape)"
   ]
  },
  {
   "cell_type": "code",
   "execution_count": 24,
   "metadata": {
    "collapsed": false
   },
   "outputs": [
    {
     "name": "stdout",
     "output_type": "stream",
     "text": [
      "0.0 21.88695\n",
      "0.0 2.1916814\n"
     ]
    }
   ],
   "source": [
    "#print(y.shape)\n",
    "print(np.min(y2),np.max(y2))\n",
    "print(np.min(y),np.max(y))\n",
    "#tf.Variable([1.0, 10.0, 1.0, 1.0], tf.float32)"
   ]
  },
  {
   "cell_type": "code",
   "execution_count": 25,
   "metadata": {
    "collapsed": false
   },
   "outputs": [],
   "source": [
    "import string\n",
    "import numpy as np\n",
    "from tensorflow.keras import layers\n",
    "\n",
    "\n",
    "class SimpleVocab(object):\n",
    "\n",
    "  def __init__(self):\n",
    "    super(SimpleVocab, self).__init__()\n",
    "    self.word2id = {}\n",
    "    self.wordcount = {}\n",
    "    self.word2id['<UNK>'] = 0\n",
    "    self.wordcount['<UNK>'] = 9e9\n",
    "\n",
    "  def tokenize_text(self, text):\n",
    "    text = text\n",
    "    tokens = str(text).lower().translate(str.maketrans('','',string.punctuation)).strip().split()\n",
    "    return tokens\n",
    "\n",
    "  def add_text_to_vocab(self, text):\n",
    "    tokens = self.tokenize_text(text)\n",
    "    \n",
    "    for token in tokens:\n",
    "      if token not in self.word2id:\n",
    "        self.word2id[token] = len(self.word2id)\n",
    "        self.wordcount[token] = 0\n",
    "      self.wordcount[token] += 1\n",
    "\n",
    "    \n",
    "\n",
    "  def threshold_rare_words(self, wordcount_threshold=5):\n",
    "    for w in self.word2id:\n",
    "      if self.wordcount[w] < wordcount_threshold:\n",
    "        self.word2id[w] = 0\n",
    "\n",
    "  def encode_text(self, text):\n",
    "    tokens = self.tokenize_text(text)\n",
    "    x = [self.word2id.get(t, 0) for t in tokens]\n",
    "    return x\n",
    "\n",
    "  def get_size(self):\n",
    "    return len(self.word2id)\n",
    "\n",
    "\n",
    "class TextLSTMModel(tf.keras.Model):\n",
    "\n",
    "  def __init__(self,\n",
    "               texts_to_build_vocab,\n",
    "               word_embed_dim=1028,\n",
    "               lstm_hidden_dim=1028):\n",
    "\n",
    "    super(TextLSTMModel, self).__init__()\n",
    "\n",
    "    self.vocab = SimpleVocab()\n",
    "    for text in texts_to_build_vocab:\n",
    "      self.vocab.add_text_to_vocab(text)\n",
    "    vocab_size = self.vocab.get_size()\n",
    "\n",
    "    self.word_embed_dim = word_embed_dim\n",
    "    self.lstm_hidden_dim = lstm_hidden_dim\n",
    "    #self.embedding_layer = torch.nn.Embedding(vocab_size, word_embed_dim)\n",
    "    self.embedding_layer = layers.Embedding(input_dim=vocab_size, output_dim=word_embed_dim)\n",
    "    #GRU_implementaiontf.keras.layers.RNN( \n",
    "    self.gru=tf.keras.layers.GRU(lstm_hidden_dim) \n",
    "    #self.gru = layers.GRU(word_embed_dim, lstm_hidden_dim)\n",
    "    \n",
    "    # self.lstm = torch.nn.LSTM(word_embed_dim, lstm_hidden_dim)\n",
    "    #     self.fc_output = torch.nn.Sequential(\n",
    "    #         torch.nn.Dropout(p=0.1),\n",
    "    #         torch.nn.Linear(lstm_hidden_dim, lstm_hidden_dim),\n",
    "    #     )\n",
    "    #self.fc_output = tf.keras.Sequential([tf.keras.layers.Dropout(.1),\n",
    "                                         # tf.keras.layers.Dense(lstm_hidden_dim,lstm_hidden_dim)])\n",
    "    self.fc_output = tf.keras.Sequential([tf.keras.layers.Dropout(.1), \n",
    "                                          tf.keras.layers.Dense(lstm_hidden_dim, input_shape=(lstm_hidden_dim,))])\n",
    "\n",
    "  def call(self, x):\n",
    "\n",
    "    # to tensor\n",
    "#     lengths = [len(t) for t in texts]\n",
    "#     itexts = tf.tensor(tf.zeros([np.max(lengths), len(texts)]))\n",
    "#     #itexts = torch.zeros((np.max(lengths), len(texts))).long()\n",
    "#     for i in range(len(texts)):\n",
    "#       itexts[:lengths[i], i] = tf.Variable(texts[i])\n",
    "\n",
    "    # embed words\n",
    "#     if torch.cuda.is_available():\n",
    "#       itexts = torch.autograd.Variable(itexts).cuda()\n",
    "    x = [self.vocab.encode_text(text) for text in x]\n",
    "    lengths = [len(t) for t in x]\n",
    "    itexts = np.zeros((len(x),np.max(lengths)))\n",
    "    for i in range(len(x)):\n",
    "        #print(i)\n",
    "        itexts[ i,:lengths[i]]=(x[i])\n",
    "        #print(\"x\",x[i])\n",
    "        #print(itexts)\n",
    "    \n",
    "    #itexts=self.vocab.encode_text(texts)\n",
    "    #print(itexts)\n",
    "    \n",
    "    etexts = self.embedding_layer(itexts)\n",
    "\n",
    "    # lstm\n",
    "    lstm_output = self.forward_lstm_(etexts)\n",
    "    \n",
    "    # get last output (using length)\n",
    "#     text_features = []\n",
    "#     for i in range(len(x)):\n",
    "#       text_features.append(lstm_output[lengths[i] - 1, i, :])\n",
    "    # output\n",
    "    #text_features = torch.stack(text_features)\n",
    "    text_features = self.fc_output(lstm_output)\n",
    "    return text_features\n",
    "\n",
    "  def forward_lstm_(self, etexts):\n",
    "    batch_size = etexts.shape[1]\n",
    "    \n",
    "    #GRU implemention\n",
    "    #first_hidden = (torch.zeros(1, batch_size, self.lstm_hidden_dim))\n",
    "    #first_hidden = (first_hidden[0].cuda(), first_hidden[1].cuda())\n",
    "#     if torch.cuda.is_available(): \n",
    "#       first_hidden = (first_hidden.cuda())\n",
    "#     else :\n",
    "#       first_hidden = (first_hidden)\n",
    "\n",
    "    lstm_output = self.gru(etexts)\n",
    "    # print(\"GRU CALLED\")\n",
    "\n",
    "    return lstm_output"
   ]
  },
  {
   "cell_type": "code",
   "execution_count": 26,
   "metadata": {
    "collapsed": false
   },
   "outputs": [],
   "source": [
    "x=next(it)\n",
    "text=x['mod_str']"
   ]
  },
  {
   "cell_type": "code",
   "execution_count": 27,
   "metadata": {
    "collapsed": false
   },
   "outputs": [],
   "source": [
    "texts=[t for t in xx.get_all_texts()]"
   ]
  },
  {
   "cell_type": "code",
   "execution_count": 28,
   "metadata": {
    "collapsed": false
   },
   "outputs": [],
   "source": [
    "embed_dim=1280\n",
    "text_model = TextLSTMModel(\n",
    "                    texts_to_build_vocab=texts,\n",
    "                    word_embed_dim=embed_dim,\n",
    "                    lstm_hidden_dim=embed_dim)"
   ]
  },
  {
   "cell_type": "code",
   "execution_count": 29,
   "metadata": {
    "collapsed": false
   },
   "outputs": [
    {
     "data": {
      "text/plain": [
       "<tf.Tensor: shape=(32, 1280), dtype=float32, numpy=\n",
       "array([[-0.0027497 ,  0.01996926,  0.03127627, ..., -0.02119767,\n",
       "         0.01139197,  0.02637821],\n",
       "       [-0.0082362 ,  0.02282355,  0.03349533, ..., -0.01982735,\n",
       "         0.0121906 ,  0.02370686],\n",
       "       [-0.00267662,  0.01963019,  0.0362697 , ..., -0.02234709,\n",
       "         0.01390666,  0.03012392],\n",
       "       ...,\n",
       "       [-0.00442451,  0.01533274,  0.02883581, ..., -0.01620508,\n",
       "         0.00500441,  0.02572719],\n",
       "       [-0.00598551,  0.01965377,  0.03145843, ..., -0.02283865,\n",
       "         0.01391649,  0.02656338],\n",
       "       [-0.00526672,  0.01747405,  0.03112719, ..., -0.02331364,\n",
       "         0.01334436,  0.02593824]], dtype=float32)>"
      ]
     },
     "execution_count": 29,
     "metadata": {},
     "output_type": "execute_result"
    }
   ],
   "source": [
    "text_model(text)"
   ]
  },
  {
   "cell_type": "code",
   "execution_count": 30,
   "metadata": {
    "collapsed": false
   },
   "outputs": [
    {
     "name": "stdout",
     "output_type": "stream",
     "text": [
      "Model: \"text_lstm_model\"\n",
      "_________________________________________________________________\n",
      "Layer (type)                 Output Shape              Param #   \n",
      "=================================================================\n",
      "embedding (Embedding)        multiple                  35840     \n",
      "_________________________________________________________________\n",
      "gru (GRU)                    multiple                  9838080   \n",
      "_________________________________________________________________\n",
      "sequential_3 (Sequential)    multiple                  1639680   \n",
      "=================================================================\n",
      "Total params: 11,513,600\n",
      "Trainable params: 11,513,600\n",
      "Non-trainable params: 0\n",
      "_________________________________________________________________\n"
     ]
    }
   ],
   "source": [
    "text_model.summary()"
   ]
  },
  {
   "cell_type": "code",
   "execution_count": 31,
   "metadata": {
    "collapsed": false
   },
   "outputs": [],
   "source": [
    "text_feat=text_model(text)"
   ]
  },
  {
   "cell_type": "code",
   "execution_count": 32,
   "metadata": {
    "collapsed": false
   },
   "outputs": [
    {
     "data": {
      "text/plain": [
       "TensorShape([32, 1280])"
      ]
     },
     "execution_count": 32,
     "metadata": {},
     "output_type": "execute_result"
    }
   ],
   "source": [
    "text_feat.shape"
   ]
  },
  {
   "cell_type": "code",
   "execution_count": 33,
   "metadata": {
    "collapsed": false
   },
   "outputs": [],
   "source": [
    "# class Concat(tf.keras.Model):\n",
    "#   \"\"\"Concatenation model.\"\"\"\n",
    "\n",
    "#   def __init__(self, texts, embed_dim):\n",
    "#     super(Concat, self).__init__(texts, embed_dim)    \n",
    "    \n",
    "#     class Composer(tf.keras.Model):\n",
    "#         \"\"\"Inner composer class.\"\"\"\n",
    "#         def __init__(self):\n",
    "#                 super(Composer, self).__init__()\n",
    "\n",
    "#                 self.b1= tf.keras.layers.BatchNormalization(axis=-1)\n",
    "#                 self.D1= tf.keras.layers.Dense(2 * embed_dim, input_shape=(2 * embed_dim,))\n",
    "#                 self.b2= tf.keras.layers.BatchNormalization(axis=-1)\n",
    "#                 self.Drop= tf.keras.layers.Dropout(0.1)\n",
    "#                 self.D2=   tf.keras.layers.Dense(2 * embed_dim, input_shape=(2 * embed_dim,))\n",
    "\n",
    "#         def forward(self, x):\n",
    "#                 f = tf.concat(c, axis=1, name='concat')\n",
    "#                 f = self.b1(f)\n",
    "#                 f = tf.nn.relu(f)\n",
    "#                 f = self.D1(f)\n",
    "#                 f = self.b2(f)\n",
    "#                 f = tf.nn.relu(f)\n",
    "#                 f = self.Drop(f)\n",
    "#                 f = self.D2(f)\n",
    "#                 return f\n",
    "\n",
    "#     self.composer = Composer()\n",
    "\n",
    "#     def compose_img_text(self, imgs, texts):\n",
    "#             img_features = self.extract_img_feature(imgs)\n",
    "#             text_features = self.extract_text_feature(texts)\n",
    "#             return self.compose_img_text_features(img_features, text_features)\n",
    "\n",
    "#     def compose_img_text_features(self, img_features, text_features):\n",
    "#             return self.composer((img_features, text_features))\n"
   ]
  },
  {
   "cell_type": "code",
   "execution_count": 34,
   "metadata": {
    "collapsed": true
   },
   "outputs": [],
   "source": [
    "# class Composer(tf.keras.Model):\n",
    "#         \"\"\"Inner composer class.\"\"\"\n",
    "#         def __init__(self):\n",
    "#                 super(Composer, self).__init__()\n",
    "\n",
    "#                 self.b1= tf.keras.layers.BatchNormalization(axis=-1)\n",
    "#                 self.D1= tf.keras.layers.Dense(2 * embed_dim, input_shape=(2 * embed_dim,))\n",
    "#                 self.b2= tf.keras.layers.BatchNormalization(axis=-1)\n",
    "#                 self.Drop= tf.keras.layers.Dropout(0.1)\n",
    "#                 self.D2=   tf.keras.layers.Dense( embed_dim, input_shape=(2 * embed_dim,))\n",
    "\n",
    "#         def call(self, x,y):\n",
    "#                 f = tf.concat([x,y], axis=1, name='concat')\n",
    "\n",
    "#                 f = self.b1(f)\n",
    "#                 f = tf.nn.relu(f)\n",
    "#                 f = self.D1(f)\n",
    "#                 f = self.b2(f)\n",
    "#                 f = tf.nn.relu(f)\n",
    "#                 f = self.Drop(f)\n",
    "#                 f = self.D2(f)\n",
    "#                 return f"
   ]
  },
  {
   "cell_type": "code",
   "execution_count": 35,
   "metadata": {
    "collapsed": true
   },
   "outputs": [],
   "source": [
    "IMG_SHAPE = (224, 224, 3)"
   ]
  },
  {
   "cell_type": "code",
   "execution_count": 36,
   "metadata": {
    "collapsed": false
   },
   "outputs": [],
   "source": [
    "base_model =tf.keras.applications.ResNet50(\n",
    "    include_top=False, weights='imagenet', input_shape=IMG_SHAPE\n",
    ")"
   ]
  },
  {
   "cell_type": "code",
   "execution_count": 37,
   "metadata": {
    "collapsed": true
   },
   "outputs": [],
   "source": [
    "base_model.trainable = False"
   ]
  },
  {
   "cell_type": "code",
   "execution_count": 38,
   "metadata": {
    "collapsed": false
   },
   "outputs": [],
   "source": [
    "IMG_SHAPE = (224, 224, 3)\n",
    "base_model =tf.keras.applications.ResNet50(\n",
    "    include_top=False, weights='imagenet', input_shape=IMG_SHAPE)\n",
    "base_model.trainable = False\n",
    "img_extractor = tf.keras.Sequential([\n",
    "  base_model,\n",
    "  tf.keras.layers.BatchNormalization()\n",
    "])"
   ]
  },
  {
   "cell_type": "code",
   "execution_count": 39,
   "metadata": {
    "collapsed": false
   },
   "outputs": [
    {
     "name": "stdout",
     "output_type": "stream",
     "text": [
      "Model: \"sequential_4\"\n",
      "_________________________________________________________________\n",
      "Layer (type)                 Output Shape              Param #   \n",
      "=================================================================\n",
      "resnet50 (Model)             (None, 7, 7, 2048)        23587712  \n",
      "_________________________________________________________________\n",
      "batch_normalization_2 (Batch (None, 7, 7, 2048)        8192      \n",
      "=================================================================\n",
      "Total params: 23,595,904\n",
      "Trainable params: 4,096\n",
      "Non-trainable params: 23,591,808\n",
      "_________________________________________________________________\n"
     ]
    }
   ],
   "source": [
    "img_extractor.summary()"
   ]
  },
  {
   "cell_type": "code",
   "execution_count": 40,
   "metadata": {
    "collapsed": false
   },
   "outputs": [
    {
     "data": {
      "text/plain": [
       "[<tf.Variable 'batch_normalization_2/gamma:0' shape=(2048,) dtype=float32, numpy=array([1., 1., 1., ..., 1., 1., 1.], dtype=float32)>,\n",
       " <tf.Variable 'batch_normalization_2/beta:0' shape=(2048,) dtype=float32, numpy=array([0., 0., 0., ..., 0., 0., 0.], dtype=float32)>]"
      ]
     },
     "execution_count": 40,
     "metadata": {},
     "output_type": "execute_result"
    }
   ],
   "source": [
    "img_extractor.trainable_variables"
   ]
  },
  {
   "cell_type": "code",
   "execution_count": 67,
   "metadata": {
    "collapsed": false
   },
   "outputs": [],
   "source": [
    "class ConCatModule(tf.keras.Model):\n",
    "\n",
    "  def __init__(self):\n",
    "    super(ConCatModule, self).__init__()\n",
    "\n",
    "  def call(self, x):\n",
    "    x = tf.concat(x, axis=1)\n",
    "    return x\n",
    "\n",
    "\n",
    "class TIRG(tf.keras.Model):\n",
    "  def __init__(self, texts, embed_dim):\n",
    "        super(TIRG, self).__init__().__init__(name='')\n",
    "\n",
    "        self.a = tf.Variable(([0.1, 0.2, 0.7, 1.0]))\n",
    "        self.gated_feature_composer = tf.keras.models.Sequential([\n",
    "                        ConCatModule(), \n",
    "                        tf.keras.layers.BatchNormalization(axis=-1), \n",
    "                        tf.keras.layers.Activation('relu'),\n",
    "                        tf.keras.layers.Dense(embed_dim, input_shape=(2 * embed_dim,)),\n",
    "                        ])\n",
    "\n",
    "        self.res_info_composer = tf.keras.models.Sequential([\n",
    "                        ConCatModule(), \n",
    "                        tf.keras.layers.BatchNormalization(axis=-1), \n",
    "                        tf.keras.layers.Activation('relu'),\n",
    "                        tf.keras.layers.Dense(2 * embed_dim, input_shape=(2 * embed_dim,)),\n",
    "                        tf.keras.layers.Activation('relu'),\n",
    "                        tf.keras.layers.Activation('softmax'),\n",
    "                        tf.keras.layers.Dense( embed_dim, input_shape=(2 * embed_dim,))\n",
    "                        ])         \n",
    "\n",
    "                        \n",
    "#         self.text_model = tf.keras.Sequential(TextLSTMModel(texts_to_build_vocab=texts,word_embed_dim=embed_dim,\n",
    "#                         lstm_hidden_dim=embed_dim)   ) \n",
    "\n",
    "#         self.Img_feature = tf.keras.Sequential([ResnetIdentityBlock()])\n",
    "\n",
    "#   def extract_img(self,img):\n",
    "#         return self.Img_feature(img)\n",
    "\n",
    "  def call(self, img_features, text_features):   \n",
    "        \n",
    "    \n",
    "    f1 = self.gated_feature_composer((img_features, text_features))\n",
    "    f2 = self.res_info_composer((img_features, text_features))\n",
    "    f = tf.keras.activations.sigmoid(f1) * img_features * self.a[0] + f2 * self.a[1]+img_features * self.a[2] \n",
    "    return f\n"
   ]
  },
  {
   "cell_type": "code",
   "execution_count": 42,
   "metadata": {
    "collapsed": false
   },
   "outputs": [],
   "source": [
    "# compose=Composer()\n",
    "# def compose_img_text(imgs, texts):\n",
    "#     img_features=my_seq2(imgs)\n",
    "#     text_features=text_model.forward_encoded_texts(texts)\n",
    "    \n",
    "#     return compose(img_features, text_features)\n",
    "\n",
    "# # compose=Composer()\n",
    "# # composite=compose(y,text_feat)"
   ]
  },
  {
   "cell_type": "code",
   "execution_count": 43,
   "metadata": {
    "collapsed": false
   },
   "outputs": [],
   "source": [
    "# TIRGmodel.summary()"
   ]
  },
  {
   "cell_type": "code",
   "execution_count": 44,
   "metadata": {
    "collapsed": false
   },
   "outputs": [],
   "source": [
    "# it = iter(image_dataset)\n",
    "# x=next(it)\n",
    "# com=TIRGmodel(x['source'],x['mod_str'])\n",
    "# target=my_seq2(x['target'])\n",
    "# source=my_seq2(x['source'])\n",
    "# print(target.shape)"
   ]
  },
  {
   "cell_type": "code",
   "execution_count": 45,
   "metadata": {
    "collapsed": false,
    "scrolled": true
   },
   "outputs": [],
   "source": [
    "# it = iter(image_dataset)\n",
    "# x=next(it)\n",
    "# com=compose_img_text(x['target'],x['mod_str'])\n",
    "# target=my_seq2(x['target'])\n",
    "# source=my_seq2(x['source'])\n",
    "# print(target.shape)"
   ]
  },
  {
   "cell_type": "code",
   "execution_count": 46,
   "metadata": {
    "collapsed": false,
    "scrolled": true
   },
   "outputs": [],
   "source": [
    "# np.sum(target-source)"
   ]
  },
  {
   "cell_type": "code",
   "execution_count": 47,
   "metadata": {
    "collapsed": false
   },
   "outputs": [],
   "source": [
    "\n",
    "class ConCatModule(torch.nn.Module):\n",
    "\n",
    "  def __init__(self):\n",
    "    super(ConCatModule, self).__init__()\n",
    "\n",
    "  def forward(self, x):\n",
    "    x = torch.cat(x, dim=1)\n",
    "    return x\n",
    "\n",
    "\n",
    "\n",
    "\n",
    "class ImgTextCompositionBase(torch.nn.Module):\n",
    "  \"\"\"Base class for image + text composition.\"\"\"\n",
    "\n",
    "  def __init__(self):\n",
    "    super(ImgTextCompositionBase, self).__init__()\n",
    "    self.normalization_layer = torch_functions.NormalizationLayer(\n",
    "        normalize_scale=4.0, learn_scale=True)\n",
    "    self.soft_triplet_loss = torch_functions.TripletLoss()\n",
    "\n",
    "  def extract_img_feature(self, imgs):\n",
    "    raise NotImplementedError\n",
    "\n",
    "  def extract_text_feature(self, texts):\n",
    "    raise NotImplementedError\n",
    "\n",
    "  def compose_img_text(self, imgs, texts):\n",
    "    raise NotImplementedError\n",
    "\n",
    "  def compute_loss(self,\n",
    "                   imgs_query,\n",
    "                   modification_texts,\n",
    "                   imgs_target,\n",
    "                   soft_triplet_loss=True):\n",
    "   \n",
    "    mod_img1 = self.compose_img_text(imgs_query, modification_texts)\n",
    "    mod_img1 = self.normalization_layer(mod_img1)\n",
    "    \n",
    "    img2 = self.extract_img_feature(imgs_target)\n",
    "    img2 = self.normalization_layer(img2)\n",
    "    \n",
    "    assert (mod_img1.shape[0] == img2.shape[0] and\n",
    "            mod_img1.shape[1] == img2.shape[1])\n",
    "    if soft_triplet_loss:\n",
    "      \n",
    "      return self.compute_soft_triplet_loss_(mod_img1, img2)\n",
    "    else:\n",
    "      return self.compute_batch_based_classification_loss_(mod_img1, img2)\n",
    "\n",
    "\n",
    "  def compute_soft_triplet_loss_(self, mod_img1, img2):\n",
    "    triplets = []\n",
    "    labels = list(range(mod_img1.shape[0])) + list(range(img2.shape[0]))\n",
    "    for i in range(len(labels)):\n",
    "      triplets_i = []\n",
    "      for j in range(len(labels)):\n",
    "        if labels[i] == labels[j] and i != j:\n",
    "          for k in range(len(labels)):\n",
    "            if labels[i] != labels[k]:\n",
    "              triplets_i.append([i, j, k])\n",
    "      np.random.shuffle(triplets_i)\n",
    "      triplets += triplets_i[:3]\n",
    "    assert (triplets and len(triplets) < 2000)\n",
    "    #print(self.soft_triplet_loss(torch.cat([mod_img1, img2]), triplets))\n",
    "    return self.soft_triplet_loss(torch.cat([mod_img1, img2]), triplets)\n",
    "\n",
    "  def compute_batch_based_classification_loss_(self, mod_img1, img2):\n",
    "    x = torch.mm(mod_img1, img2.transpose(0, 1))\n",
    "    labels = torch.tensor(range(x.shape[0])).long()\n",
    "    labels = torch.autograd.Variable(labels).cuda()\n",
    "    return F.cross_entropy(x, labels)\n",
    "\n",
    "\n",
    "class ImgEncoderTextEncoderBase(ImgTextCompositionBase):\n",
    "  \"\"\"Base class for image and text encoder.\"\"\"\n",
    "\n",
    "  def __init__(self, texts, embed_dim):\n",
    "    super(ImgEncoderTextEncoderBase, self).__init__()\n",
    "\n",
    "    # img model\n",
    "    img_model = torchvision.models.resnet18(pretrained=True)\n",
    "\n",
    "    class GlobalAvgPool2d(torch.nn.Module):\n",
    "\n",
    "      def forward(self, x):\n",
    "        return F.adaptive_avg_pool2d(x, (1, 1))\n",
    "\n",
    "    img_model.avgpool = GlobalAvgPool2d()\n",
    "    img_model.fc = torch.nn.Sequential(torch.nn.Linear(512, embed_dim))\n",
    "    self.img_model = img_model\n",
    "\n",
    "    # text model\n",
    "    self.text_model = text_model.TextLSTMModel(\n",
    "        texts_to_build_vocab=texts,\n",
    "        word_embed_dim=embed_dim,\n",
    "        lstm_hidden_dim=embed_dim)\n",
    "\n",
    "  def extract_img_feature(self, imgs):\n",
    "    return self.img_model(imgs)\n",
    "\n",
    "  def extract_text_feature(self, texts):\n",
    "    return self.text_model(texts)\n",
    "\n",
    "\n",
    "class TIRGRevGrad(ImgEncoderTextEncoderBase):\n",
    "    def __init__(self, texts, embed_dim):\n",
    "        super().__init__(texts, embed_dim)\n",
    "        # self.feature_extractor = nn.Sequential(      \n",
    "        # )\n",
    "        self.num_cnn_features = embed_dim\n",
    "        self.normalization_layer = torch_functions.NormalizationLayer(\n",
    "            normalize_scale=4.0, learn_scale=True)\n",
    "        self.soft_triplet_loss = torch_functions.TripletLoss()\n",
    "        \n",
    "        self.a = torch.nn.Parameter(torch.tensor([1.0, 10.0, 1.0, 1.0]))\n",
    "\n",
    "        self.gated_feature_composer = torch.nn.Sequential(\n",
    "             ConCatModule(), torch.nn.BatchNorm1d(2 * embed_dim),\n",
    "             torch.nn.ReLU(),torch.nn.Linear(2 * embed_dim, embed_dim)\n",
    "        )\n",
    "\n",
    "        img_model = torchvision.models.resnet18(pretrained=True)\n",
    "        class GlobalAvgPool2d(torch.nn.Module):\n",
    "           def forward(self, x):\n",
    "              return F.adaptive_avg_pool2d(x, (1, 1))\n",
    "        img_model.avgpool = GlobalAvgPool2d()\n",
    "        img_model.fc = torch.nn.Sequential(torch.nn.Linear(512, embed_dim))\n",
    "        self.img_model = img_model\n",
    "\n",
    "        # text model\n",
    "        self.text_model = text_model.TextLSTMModel(\n",
    "                    texts_to_build_vocab=texts,\n",
    "                    word_embed_dim=embed_dim,\n",
    "                    lstm_hidden_dim=embed_dim)\n",
    "        \n",
    "        self.res_info_composer = torch.nn.Sequential(\n",
    "            ConCatModule(), torch.nn.BatchNorm1d(2 * embed_dim),\n",
    "            torch.nn.ReLU(), torch.nn.Linear(2 * embed_dim, 2 * embed_dim),\n",
    "            torch.nn.ReLU(), torch.nn.Linear(2 * embed_dim, embed_dim)\n",
    "        )\n",
    "\n",
    "        self.domain_classifier = torch.nn.Sequential(\n",
    "            torch.nn.Linear(self.num_cnn_features, 100),\n",
    "            torch.nn.BatchNorm1d(100), torch.nn.ReLU(True),\n",
    "            torch.nn.Linear(100, 2),\n",
    "            torch.nn.LogSoftmax(dim=1),)\n",
    "\n",
    "    def compute_loss(self,imgs_query,modification_texts,imgs_target,soft_triplet_loss=True):\n",
    "            mod_img1 = self.compose_img_text(imgs_query, modification_texts)\n",
    "            mod_img1 = self.normalization_layer(mod_img1)\n",
    "            img2 = self.extract_img_feature(imgs_target)\n",
    "            img2 = self.normalization_layer(img2)\n",
    "            assert (mod_img1.shape[0] == img2.shape[0] and\n",
    "                    mod_img1.shape[1] == img2.shape[1])\n",
    "            return self.compute_soft_triplet_loss_(mod_img1, img2)\n",
    "\n",
    "    def compute_soft_triplet_loss_(self, mod_img1, img2):\n",
    "            triplets = []\n",
    "            labels = list(range(mod_img1.shape[0])) + list(range(img2.shape[0]))\n",
    "            for i in range(len(labels)):\n",
    "              triplets_i = []\n",
    "              for j in range(len(labels)):\n",
    "                if labels[i] == labels[j] and i != j:\n",
    "                  for k in range(len(labels)):\n",
    "                    if labels[i] != labels[k]:\n",
    "                      triplets_i.append([i, j, k])\n",
    "              np.random.shuffle(triplets_i)\n",
    "              triplets += triplets_i[:3]\n",
    "            assert (triplets and len(triplets) < 2000)\n",
    "            return self.soft_triplet_loss(torch.cat([mod_img1, img2]), triplets)\n",
    "\n",
    "\n",
    "    def compose_img_text(self, imgs, texts):\n",
    "        img_features = self.extract_img_feature(imgs)\n",
    "        text_features = self.extract_text_feature(texts)\n",
    "        return self.compose_img_text_features(img_features, text_features)\n",
    "\n",
    "    def compose_img_text_features(self, img_features, text_features):\n",
    "        f1 = self.gated_feature_composer((img_features, text_features))\n",
    "        f2 = self.res_info_composer((img_features, text_features))\n",
    "        f = torch.sigmoid(f1) * img_features * self.a[0] + f2 * self.a[1]\n",
    "        return f\n",
    "\n",
    "    def extract_img_feature(self, imgs):\n",
    "             return self.img_model(imgs)\n",
    "\n",
    "    def extract_text_feature(self, texts):\n",
    "             return self.text_model(texts)          \n",
    "            \n",
    "    def forward(self, imgs_query, modification_texts,img2, grl_lambda=1.0):\n",
    "        # Handle single-channel input by expanding (repeating) the singleton dimention\n",
    "        # x = x.expand(x.data.shape[0], 3, image_size, image_size)\n",
    "\n",
    "        loss = self.compute_loss(imgs_query, modification_texts,img2, soft_triplet_loss=True)\n",
    "        features= self.compose_img_text(imgs_query, modification_texts)\n",
    "        #features = features.view(-1, self.num_cnn_features)\n",
    "        #print(features.shape)\n",
    "        features_grl = GradientReversalFn.apply(features, grl_lambda)\n",
    "        # class_pred = self.class_classifier(features)        # classify on regular features\n",
    "        domain_pred = self.domain_classifier(features_grl)  # classify on features after GRL\n",
    "        return domain_pred , loss\n"
   ]
  },
  {
   "cell_type": "code",
   "execution_count": 48,
   "metadata": {
    "collapsed": true
   },
   "outputs": [],
   "source": [
    "model = img_text_composition_models.TIRGRevGrad(texts, embed_dim=opt.embed_dim)"
   ]
  },
  {
   "cell_type": "code",
   "execution_count": 49,
   "metadata": {
    "collapsed": false
   },
   "outputs": [
    {
     "name": "stdout",
     "output_type": "stream",
     "text": [
      "[\"tf.Tensor(b'make top-center small object red', shape=(), dtype=string)\", \"tf.Tensor(b'make middle-right gray rectangle blue', shape=(), dtype=string)\", \"tf.Tensor(b'make middle-right brown circle yellow', shape=(), dtype=string)\", \"tf.Tensor(b'make top-right blue object red', shape=(), dtype=string)\", \"tf.Tensor(b'add yellow circle to bottom-right', shape=(), dtype=string)\", \"tf.Tensor(b'add small yellow triangle to middle-left', shape=(), dtype=string)\", \"tf.Tensor(b'make bottom-left large purple object blue', shape=(), dtype=string)\", \"tf.Tensor(b'make middle-right rectangle large', shape=(), dtype=string)\", \"tf.Tensor(b'remove middle-right small green object', shape=(), dtype=string)\", \"tf.Tensor(b'add green rectangle to top-right', shape=(), dtype=string)\", \"tf.Tensor(b'make middle-left large brown object red', shape=(), dtype=string)\", \"tf.Tensor(b'make top-center circle large', shape=(), dtype=string)\", \"tf.Tensor(b'add large green rectangle to bottom-right', shape=(), dtype=string)\", \"tf.Tensor(b'remove top-left small green circle', shape=(), dtype=string)\", \"tf.Tensor(b'remove top-right red triangle', shape=(), dtype=string)\", \"tf.Tensor(b'make bottom-center gray object small', shape=(), dtype=string)\", \"tf.Tensor(b'make bottom-left small cyan object purple', shape=(), dtype=string)\", \"tf.Tensor(b'make bottom-left blue rectangle yellow', shape=(), dtype=string)\", \"tf.Tensor(b'make top-right object cyan', shape=(), dtype=string)\", \"tf.Tensor(b'add small green circle', shape=(), dtype=string)\", \"tf.Tensor(b'make top-center small gray rectangle yellow', shape=(), dtype=string)\", \"tf.Tensor(b'make bottom-center small gray rectangle blue', shape=(), dtype=string)\", \"tf.Tensor(b'make top-left yellow rectangle green', shape=(), dtype=string)\", \"tf.Tensor(b'make bottom-right large brown object red', shape=(), dtype=string)\", \"tf.Tensor(b'make middle-left large blue rectangle small', shape=(), dtype=string)\", \"tf.Tensor(b'make middle-left cyan object purple', shape=(), dtype=string)\", \"tf.Tensor(b'add small red triangle to bottom-right', shape=(), dtype=string)\", \"tf.Tensor(b'make bottom-center large triangle blue', shape=(), dtype=string)\", \"tf.Tensor(b'make middle-left large cyan object green', shape=(), dtype=string)\", \"tf.Tensor(b'add large blue circle to top-right', shape=(), dtype=string)\", \"tf.Tensor(b'make large red circle gray', shape=(), dtype=string)\", \"tf.Tensor(b'make top-left small triangle gray', shape=(), dtype=string)\"]\n"
     ]
    },
    {
     "ename": "RuntimeError",
     "evalue": "Expected object of device type cuda but got device type cpu for argument #1 'self' in call to _th_index_select",
     "output_type": "error",
     "traceback": [
      "\u001b[0;31m---------------------------------------------------------------------------\u001b[0m",
      "\u001b[0;31mRuntimeError\u001b[0m                              Traceback (most recent call last)",
      "\u001b[0;32m<ipython-input-49-d086743d037e>\u001b[0m in \u001b[0;36m<module>\u001b[0;34m\u001b[0m\n\u001b[1;32m      1\u001b[0m model.compute_loss(torch.from_numpy(x['source'].numpy()).permute(0,3,1,2),\n\u001b[0;32m----> 2\u001b[0;31m                    [str(t) for t in x['mod_str']],x['target'],soft_triplet_loss=True)\n\u001b[0m",
      "\u001b[0;32m~/alin/project/Image_text_retrival/img_text_composition_models.py\u001b[0m in \u001b[0;36mcompute_loss\u001b[0;34m(self, imgs_query, modification_texts, imgs_target, soft_triplet_loss)\u001b[0m\n\u001b[1;32m    254\u001b[0m \u001b[0;34m\u001b[0m\u001b[0m\n\u001b[1;32m    255\u001b[0m     \u001b[0;32mdef\u001b[0m \u001b[0mcompute_loss\u001b[0m\u001b[0;34m(\u001b[0m\u001b[0mself\u001b[0m\u001b[0;34m,\u001b[0m\u001b[0mimgs_query\u001b[0m\u001b[0;34m,\u001b[0m\u001b[0mmodification_texts\u001b[0m\u001b[0;34m,\u001b[0m\u001b[0mimgs_target\u001b[0m\u001b[0;34m,\u001b[0m\u001b[0msoft_triplet_loss\u001b[0m\u001b[0;34m=\u001b[0m\u001b[0;32mTrue\u001b[0m\u001b[0;34m)\u001b[0m\u001b[0;34m:\u001b[0m\u001b[0;34m\u001b[0m\u001b[0m\n\u001b[0;32m--> 256\u001b[0;31m             \u001b[0mmod_img1\u001b[0m \u001b[0;34m=\u001b[0m \u001b[0mself\u001b[0m\u001b[0;34m.\u001b[0m\u001b[0mcompose_img_text\u001b[0m\u001b[0;34m(\u001b[0m\u001b[0mimgs_query\u001b[0m\u001b[0;34m,\u001b[0m \u001b[0mmodification_texts\u001b[0m\u001b[0;34m)\u001b[0m\u001b[0;34m\u001b[0m\u001b[0m\n\u001b[0m\u001b[1;32m    257\u001b[0m             \u001b[0mmod_img1\u001b[0m \u001b[0;34m=\u001b[0m \u001b[0mself\u001b[0m\u001b[0;34m.\u001b[0m\u001b[0mnormalization_layer\u001b[0m\u001b[0;34m(\u001b[0m\u001b[0mmod_img1\u001b[0m\u001b[0;34m)\u001b[0m\u001b[0;34m\u001b[0m\u001b[0m\n\u001b[1;32m    258\u001b[0m             \u001b[0mimg2\u001b[0m \u001b[0;34m=\u001b[0m \u001b[0mself\u001b[0m\u001b[0;34m.\u001b[0m\u001b[0mextract_img_feature\u001b[0m\u001b[0;34m(\u001b[0m\u001b[0mimgs_target\u001b[0m\u001b[0;34m)\u001b[0m\u001b[0;34m\u001b[0m\u001b[0m\n",
      "\u001b[0;32m~/alin/project/Image_text_retrival/img_text_composition_models.py\u001b[0m in \u001b[0;36mcompose_img_text\u001b[0;34m(self, imgs, texts)\u001b[0m\n\u001b[1;32m    280\u001b[0m     \u001b[0;32mdef\u001b[0m \u001b[0mcompose_img_text\u001b[0m\u001b[0;34m(\u001b[0m\u001b[0mself\u001b[0m\u001b[0;34m,\u001b[0m \u001b[0mimgs\u001b[0m\u001b[0;34m,\u001b[0m \u001b[0mtexts\u001b[0m\u001b[0;34m)\u001b[0m\u001b[0;34m:\u001b[0m\u001b[0;34m\u001b[0m\u001b[0m\n\u001b[1;32m    281\u001b[0m         \u001b[0mimg_features\u001b[0m \u001b[0;34m=\u001b[0m \u001b[0mself\u001b[0m\u001b[0;34m.\u001b[0m\u001b[0mextract_img_feature\u001b[0m\u001b[0;34m(\u001b[0m\u001b[0mimgs\u001b[0m\u001b[0;34m)\u001b[0m\u001b[0;34m\u001b[0m\u001b[0m\n\u001b[0;32m--> 282\u001b[0;31m         \u001b[0mtext_features\u001b[0m \u001b[0;34m=\u001b[0m \u001b[0mself\u001b[0m\u001b[0;34m.\u001b[0m\u001b[0mextract_text_feature\u001b[0m\u001b[0;34m(\u001b[0m\u001b[0mtexts\u001b[0m\u001b[0;34m)\u001b[0m\u001b[0;34m\u001b[0m\u001b[0m\n\u001b[0m\u001b[1;32m    283\u001b[0m         \u001b[0;32mreturn\u001b[0m \u001b[0mself\u001b[0m\u001b[0;34m.\u001b[0m\u001b[0mcompose_img_text_features\u001b[0m\u001b[0;34m(\u001b[0m\u001b[0mimg_features\u001b[0m\u001b[0;34m,\u001b[0m \u001b[0mtext_features\u001b[0m\u001b[0;34m)\u001b[0m\u001b[0;34m\u001b[0m\u001b[0m\n\u001b[1;32m    284\u001b[0m \u001b[0;34m\u001b[0m\u001b[0m\n",
      "\u001b[0;32m~/alin/project/Image_text_retrival/img_text_composition_models.py\u001b[0m in \u001b[0;36mextract_text_feature\u001b[0;34m(self, texts)\u001b[0m\n\u001b[1;32m    293\u001b[0m \u001b[0;34m\u001b[0m\u001b[0m\n\u001b[1;32m    294\u001b[0m     \u001b[0;32mdef\u001b[0m \u001b[0mextract_text_feature\u001b[0m\u001b[0;34m(\u001b[0m\u001b[0mself\u001b[0m\u001b[0;34m,\u001b[0m \u001b[0mtexts\u001b[0m\u001b[0;34m)\u001b[0m\u001b[0;34m:\u001b[0m\u001b[0;34m\u001b[0m\u001b[0m\n\u001b[0;32m--> 295\u001b[0;31m              \u001b[0;32mreturn\u001b[0m \u001b[0mself\u001b[0m\u001b[0;34m.\u001b[0m\u001b[0mtext_model\u001b[0m\u001b[0;34m(\u001b[0m\u001b[0mtexts\u001b[0m\u001b[0;34m)\u001b[0m\u001b[0;34m\u001b[0m\u001b[0m\n\u001b[0m\u001b[1;32m    296\u001b[0m \u001b[0;34m\u001b[0m\u001b[0m\n\u001b[1;32m    297\u001b[0m     \u001b[0;32mdef\u001b[0m \u001b[0mforward\u001b[0m\u001b[0;34m(\u001b[0m\u001b[0mself\u001b[0m\u001b[0;34m,\u001b[0m \u001b[0mimgs_query\u001b[0m\u001b[0;34m,\u001b[0m \u001b[0mmodification_texts\u001b[0m\u001b[0;34m,\u001b[0m\u001b[0mimg2\u001b[0m\u001b[0;34m,\u001b[0m \u001b[0mgrl_lambda\u001b[0m\u001b[0;34m=\u001b[0m\u001b[0;36m1.0\u001b[0m\u001b[0;34m)\u001b[0m\u001b[0;34m:\u001b[0m\u001b[0;34m\u001b[0m\u001b[0m\n",
      "\u001b[0;32m/usr/local/lib/python3.5/dist-packages/torch/nn/modules/module.py\u001b[0m in \u001b[0;36m__call__\u001b[0;34m(self, *input, **kwargs)\u001b[0m\n\u001b[1;32m    539\u001b[0m             \u001b[0mresult\u001b[0m \u001b[0;34m=\u001b[0m \u001b[0mself\u001b[0m\u001b[0;34m.\u001b[0m\u001b[0m_slow_forward\u001b[0m\u001b[0;34m(\u001b[0m\u001b[0;34m*\u001b[0m\u001b[0minput\u001b[0m\u001b[0;34m,\u001b[0m \u001b[0;34m**\u001b[0m\u001b[0mkwargs\u001b[0m\u001b[0;34m)\u001b[0m\u001b[0;34m\u001b[0m\u001b[0m\n\u001b[1;32m    540\u001b[0m         \u001b[0;32melse\u001b[0m\u001b[0;34m:\u001b[0m\u001b[0;34m\u001b[0m\u001b[0m\n\u001b[0;32m--> 541\u001b[0;31m             \u001b[0mresult\u001b[0m \u001b[0;34m=\u001b[0m \u001b[0mself\u001b[0m\u001b[0;34m.\u001b[0m\u001b[0mforward\u001b[0m\u001b[0;34m(\u001b[0m\u001b[0;34m*\u001b[0m\u001b[0minput\u001b[0m\u001b[0;34m,\u001b[0m \u001b[0;34m**\u001b[0m\u001b[0mkwargs\u001b[0m\u001b[0;34m)\u001b[0m\u001b[0;34m\u001b[0m\u001b[0m\n\u001b[0m\u001b[1;32m    542\u001b[0m         \u001b[0;32mfor\u001b[0m \u001b[0mhook\u001b[0m \u001b[0;32min\u001b[0m \u001b[0mself\u001b[0m\u001b[0;34m.\u001b[0m\u001b[0m_forward_hooks\u001b[0m\u001b[0;34m.\u001b[0m\u001b[0mvalues\u001b[0m\u001b[0;34m(\u001b[0m\u001b[0;34m)\u001b[0m\u001b[0;34m:\u001b[0m\u001b[0;34m\u001b[0m\u001b[0m\n\u001b[1;32m    543\u001b[0m             \u001b[0mhook_result\u001b[0m \u001b[0;34m=\u001b[0m \u001b[0mhook\u001b[0m\u001b[0;34m(\u001b[0m\u001b[0mself\u001b[0m\u001b[0;34m,\u001b[0m \u001b[0minput\u001b[0m\u001b[0;34m,\u001b[0m \u001b[0mresult\u001b[0m\u001b[0;34m)\u001b[0m\u001b[0;34m\u001b[0m\u001b[0m\n",
      "\u001b[0;32m~/alin/project/Image_text_retrival/text_model.py\u001b[0m in \u001b[0;36mforward\u001b[0;34m(self, x)\u001b[0m\n\u001b[1;32m     92\u001b[0m     \u001b[0;32massert\u001b[0m \u001b[0mtype\u001b[0m\u001b[0;34m(\u001b[0m\u001b[0mx\u001b[0m\u001b[0;34m[\u001b[0m\u001b[0;36m0\u001b[0m\u001b[0;34m]\u001b[0m\u001b[0;34m)\u001b[0m \u001b[0;32mis\u001b[0m \u001b[0mlist\u001b[0m\u001b[0;34m\u001b[0m\u001b[0m\n\u001b[1;32m     93\u001b[0m     \u001b[0;32massert\u001b[0m \u001b[0mtype\u001b[0m\u001b[0;34m(\u001b[0m\u001b[0mx\u001b[0m\u001b[0;34m[\u001b[0m\u001b[0;36m0\u001b[0m\u001b[0;34m]\u001b[0m\u001b[0;34m[\u001b[0m\u001b[0;36m0\u001b[0m\u001b[0;34m]\u001b[0m\u001b[0;34m)\u001b[0m \u001b[0;32mis\u001b[0m \u001b[0mint\u001b[0m\u001b[0;34m\u001b[0m\u001b[0m\n\u001b[0;32m---> 94\u001b[0;31m     \u001b[0;32mreturn\u001b[0m \u001b[0mself\u001b[0m\u001b[0;34m.\u001b[0m\u001b[0mforward_encoded_texts\u001b[0m\u001b[0;34m(\u001b[0m\u001b[0mx\u001b[0m\u001b[0;34m)\u001b[0m\u001b[0;34m\u001b[0m\u001b[0m\n\u001b[0m\u001b[1;32m     95\u001b[0m \u001b[0;34m\u001b[0m\u001b[0m\n\u001b[1;32m     96\u001b[0m   \u001b[0;32mdef\u001b[0m \u001b[0mforward_encoded_texts\u001b[0m\u001b[0;34m(\u001b[0m\u001b[0mself\u001b[0m\u001b[0;34m,\u001b[0m \u001b[0mtexts\u001b[0m\u001b[0;34m)\u001b[0m\u001b[0;34m:\u001b[0m\u001b[0;34m\u001b[0m\u001b[0m\n",
      "\u001b[0;32m~/alin/project/Image_text_retrival/text_model.py\u001b[0m in \u001b[0;36mforward_encoded_texts\u001b[0;34m(self, texts)\u001b[0m\n\u001b[1;32m    106\u001b[0m \u001b[0;34m\u001b[0m\u001b[0m\n\u001b[1;32m    107\u001b[0m \u001b[0;34m\u001b[0m\u001b[0m\n\u001b[0;32m--> 108\u001b[0;31m     \u001b[0metexts\u001b[0m \u001b[0;34m=\u001b[0m \u001b[0mself\u001b[0m\u001b[0;34m.\u001b[0m\u001b[0membedding_layer\u001b[0m\u001b[0;34m(\u001b[0m\u001b[0mitexts\u001b[0m\u001b[0;34m)\u001b[0m\u001b[0;34m\u001b[0m\u001b[0m\n\u001b[0m\u001b[1;32m    109\u001b[0m \u001b[0;34m\u001b[0m\u001b[0m\n\u001b[1;32m    110\u001b[0m     \u001b[0;31m# lstm\u001b[0m\u001b[0;34m\u001b[0m\u001b[0;34m\u001b[0m\u001b[0m\n",
      "\u001b[0;32m/usr/local/lib/python3.5/dist-packages/torch/nn/modules/module.py\u001b[0m in \u001b[0;36m__call__\u001b[0;34m(self, *input, **kwargs)\u001b[0m\n\u001b[1;32m    539\u001b[0m             \u001b[0mresult\u001b[0m \u001b[0;34m=\u001b[0m \u001b[0mself\u001b[0m\u001b[0;34m.\u001b[0m\u001b[0m_slow_forward\u001b[0m\u001b[0;34m(\u001b[0m\u001b[0;34m*\u001b[0m\u001b[0minput\u001b[0m\u001b[0;34m,\u001b[0m \u001b[0;34m**\u001b[0m\u001b[0mkwargs\u001b[0m\u001b[0;34m)\u001b[0m\u001b[0;34m\u001b[0m\u001b[0m\n\u001b[1;32m    540\u001b[0m         \u001b[0;32melse\u001b[0m\u001b[0;34m:\u001b[0m\u001b[0;34m\u001b[0m\u001b[0m\n\u001b[0;32m--> 541\u001b[0;31m             \u001b[0mresult\u001b[0m \u001b[0;34m=\u001b[0m \u001b[0mself\u001b[0m\u001b[0;34m.\u001b[0m\u001b[0mforward\u001b[0m\u001b[0;34m(\u001b[0m\u001b[0;34m*\u001b[0m\u001b[0minput\u001b[0m\u001b[0;34m,\u001b[0m \u001b[0;34m**\u001b[0m\u001b[0mkwargs\u001b[0m\u001b[0;34m)\u001b[0m\u001b[0;34m\u001b[0m\u001b[0m\n\u001b[0m\u001b[1;32m    542\u001b[0m         \u001b[0;32mfor\u001b[0m \u001b[0mhook\u001b[0m \u001b[0;32min\u001b[0m \u001b[0mself\u001b[0m\u001b[0;34m.\u001b[0m\u001b[0m_forward_hooks\u001b[0m\u001b[0;34m.\u001b[0m\u001b[0mvalues\u001b[0m\u001b[0;34m(\u001b[0m\u001b[0;34m)\u001b[0m\u001b[0;34m:\u001b[0m\u001b[0;34m\u001b[0m\u001b[0m\n\u001b[1;32m    543\u001b[0m             \u001b[0mhook_result\u001b[0m \u001b[0;34m=\u001b[0m \u001b[0mhook\u001b[0m\u001b[0;34m(\u001b[0m\u001b[0mself\u001b[0m\u001b[0;34m,\u001b[0m \u001b[0minput\u001b[0m\u001b[0;34m,\u001b[0m \u001b[0mresult\u001b[0m\u001b[0;34m)\u001b[0m\u001b[0;34m\u001b[0m\u001b[0m\n",
      "\u001b[0;32m/usr/local/lib/python3.5/dist-packages/torch/nn/modules/sparse.py\u001b[0m in \u001b[0;36mforward\u001b[0;34m(self, input)\u001b[0m\n\u001b[1;32m    112\u001b[0m         return F.embedding(\n\u001b[1;32m    113\u001b[0m             \u001b[0minput\u001b[0m\u001b[0;34m,\u001b[0m \u001b[0mself\u001b[0m\u001b[0;34m.\u001b[0m\u001b[0mweight\u001b[0m\u001b[0;34m,\u001b[0m \u001b[0mself\u001b[0m\u001b[0;34m.\u001b[0m\u001b[0mpadding_idx\u001b[0m\u001b[0;34m,\u001b[0m \u001b[0mself\u001b[0m\u001b[0;34m.\u001b[0m\u001b[0mmax_norm\u001b[0m\u001b[0;34m,\u001b[0m\u001b[0;34m\u001b[0m\u001b[0m\n\u001b[0;32m--> 114\u001b[0;31m             self.norm_type, self.scale_grad_by_freq, self.sparse)\n\u001b[0m\u001b[1;32m    115\u001b[0m \u001b[0;34m\u001b[0m\u001b[0m\n\u001b[1;32m    116\u001b[0m     \u001b[0;32mdef\u001b[0m \u001b[0mextra_repr\u001b[0m\u001b[0;34m(\u001b[0m\u001b[0mself\u001b[0m\u001b[0;34m)\u001b[0m\u001b[0;34m:\u001b[0m\u001b[0;34m\u001b[0m\u001b[0m\n",
      "\u001b[0;32m/usr/local/lib/python3.5/dist-packages/torch/nn/functional.py\u001b[0m in \u001b[0;36membedding\u001b[0;34m(input, weight, padding_idx, max_norm, norm_type, scale_grad_by_freq, sparse)\u001b[0m\n\u001b[1;32m   1482\u001b[0m         \u001b[0;31m# remove once script supports set_grad_enabled\u001b[0m\u001b[0;34m\u001b[0m\u001b[0;34m\u001b[0m\u001b[0m\n\u001b[1;32m   1483\u001b[0m         \u001b[0m_no_grad_embedding_renorm_\u001b[0m\u001b[0;34m(\u001b[0m\u001b[0mweight\u001b[0m\u001b[0;34m,\u001b[0m \u001b[0minput\u001b[0m\u001b[0;34m,\u001b[0m \u001b[0mmax_norm\u001b[0m\u001b[0;34m,\u001b[0m \u001b[0mnorm_type\u001b[0m\u001b[0;34m)\u001b[0m\u001b[0;34m\u001b[0m\u001b[0m\n\u001b[0;32m-> 1484\u001b[0;31m     \u001b[0;32mreturn\u001b[0m \u001b[0mtorch\u001b[0m\u001b[0;34m.\u001b[0m\u001b[0membedding\u001b[0m\u001b[0;34m(\u001b[0m\u001b[0mweight\u001b[0m\u001b[0;34m,\u001b[0m \u001b[0minput\u001b[0m\u001b[0;34m,\u001b[0m \u001b[0mpadding_idx\u001b[0m\u001b[0;34m,\u001b[0m \u001b[0mscale_grad_by_freq\u001b[0m\u001b[0;34m,\u001b[0m \u001b[0msparse\u001b[0m\u001b[0;34m)\u001b[0m\u001b[0;34m\u001b[0m\u001b[0m\n\u001b[0m\u001b[1;32m   1485\u001b[0m \u001b[0;34m\u001b[0m\u001b[0m\n\u001b[1;32m   1486\u001b[0m \u001b[0;34m\u001b[0m\u001b[0m\n",
      "\u001b[0;31mRuntimeError\u001b[0m: Expected object of device type cuda but got device type cpu for argument #1 'self' in call to _th_index_select"
     ]
    }
   ],
   "source": [
    "model.compute_loss(torch.from_numpy(x['source'].numpy()).permute(0,3,1,2),\n",
    "                   [str(t) for t in x['mod_str']],x['target'],soft_triplet_loss=True)"
   ]
  },
  {
   "cell_type": "code",
   "execution_count": 50,
   "metadata": {
    "collapsed": true
   },
   "outputs": [],
   "source": [
    "def compute_batch_based_classification_loss_(mod_img1, img2):\n",
    "    x = torch.matmul(torch.tensor(mod_img1), torch.tensor(img2.transpose(1, 0)))\n",
    "    labels = torch.tensor(range(x.shape[0])).long()\n",
    "    labels = torch.autograd.Variable(labels)\n",
    "    return torch.nn.functional.cross_entropy(x, labels).numpy()"
   ]
  },
  {
   "cell_type": "code",
   "execution_count": 51,
   "metadata": {
    "collapsed": true
   },
   "outputs": [],
   "source": [
    "def loss2(mod_img1, img2):\n",
    "    x=tf.matmul(mod_img1, tf.transpose(img2, perm=[ 1, 0]))\n",
    "    labels = (range(x.shape[0]))\n",
    "    return tf.reduce_sum(tf.nn.sparse_softmax_cross_entropy_with_logits(labels, x))"
   ]
  },
  {
   "cell_type": "code",
   "execution_count": 52,
   "metadata": {
    "collapsed": false
   },
   "outputs": [
    {
     "ename": "NameError",
     "evalue": "name 'TIRGmodel' is not defined",
     "output_type": "error",
     "traceback": [
      "\u001b[0;31m---------------------------------------------------------------------------\u001b[0m",
      "\u001b[0;31mNameError\u001b[0m                                 Traceback (most recent call last)",
      "\u001b[0;32m<ipython-input-52-dfba232a6234>\u001b[0m in \u001b[0;36m<module>\u001b[0;34m\u001b[0m\n\u001b[1;32m      3\u001b[0m \u001b[0mimgT\u001b[0m\u001b[0;34m=\u001b[0m\u001b[0mimg_extractor\u001b[0m\u001b[0;34m(\u001b[0m\u001b[0mx\u001b[0m\u001b[0;34m[\u001b[0m\u001b[0;34m'target'\u001b[0m\u001b[0;34m]\u001b[0m\u001b[0;34m)\u001b[0m\u001b[0;34m\u001b[0m\u001b[0m\n\u001b[1;32m      4\u001b[0m \u001b[0;31m#                 print(text_features.shape,imgS.shape,imgT.shape)\u001b[0m\u001b[0;34m\u001b[0m\u001b[0;34m\u001b[0m\u001b[0m\n\u001b[0;32m----> 5\u001b[0;31m \u001b[0mC_feature\u001b[0m\u001b[0;34m=\u001b[0m\u001b[0mTIRGmodel\u001b[0m\u001b[0;34m(\u001b[0m\u001b[0mtext_features\u001b[0m\u001b[0;34m,\u001b[0m \u001b[0mimgS\u001b[0m\u001b[0;34m)\u001b[0m\u001b[0;34m\u001b[0m\u001b[0m\n\u001b[0m\u001b[1;32m      6\u001b[0m \u001b[0mloss\u001b[0m\u001b[0;34m=\u001b[0m\u001b[0mcompute_soft_triplet_loss_\u001b[0m\u001b[0;34m(\u001b[0m\u001b[0mC_feature\u001b[0m\u001b[0;34m,\u001b[0m\u001b[0mimgT\u001b[0m\u001b[0;34m)\u001b[0m\u001b[0;34m\u001b[0m\u001b[0m\n",
      "\u001b[0;31mNameError\u001b[0m: name 'TIRGmodel' is not defined"
     ]
    }
   ],
   "source": [
    "text_features=text_model(x['mod_str'])\n",
    "imgS=img_extractor(x['source'])\n",
    "imgT=img_extractor(x['target'])\n",
    "#                 print(text_features.shape,imgS.shape,imgT.shape)\n",
    "C_feature=TIRGmodel(text_features, imgS)\n",
    "loss=compute_soft_triplet_loss_(C_feature,imgT)"
   ]
  },
  {
   "cell_type": "code",
   "execution_count": null,
   "metadata": {
    "collapsed": false
   },
   "outputs": [],
   "source": [
    "print(compute_batch_based_classification_loss_(C_feature.numpy(), imgT.numpy()))\n",
    "print(compute_batch_based_classification_loss_(imgS.numpy(), imgT.numpy()))\n",
    "print(compute_batch_based_classification_loss_(imgT.numpy(), imgT.numpy()))"
   ]
  },
  {
   "cell_type": "code",
   "execution_count": null,
   "metadata": {
    "collapsed": false
   },
   "outputs": [],
   "source": [
    "print(loss2(C_feature.numpy(), imgT.numpy()))\n",
    "print(loss2(imgS.numpy(), imgT.numpy()))\n",
    "print(loss2(imgT.numpy(), imgT.numpy()))"
   ]
  },
  {
   "cell_type": "code",
   "execution_count": null,
   "metadata": {
    "collapsed": false
   },
   "outputs": [],
   "source": [
    "# my_seq2(x['source'])-my_seq2(x['target'])"
   ]
  },
  {
   "cell_type": "code",
   "execution_count": null,
   "metadata": {
    "collapsed": true
   },
   "outputs": [],
   "source": [
    "def compute_soft_triplet_loss_( mod_img1, img2):\n",
    "    triplets = []\n",
    "    labels = list(range(mod_img1.shape[0])) + list(range(img2.shape[0]))\n",
    "    for i in range(len(labels)):\n",
    "      triplets_i = []\n",
    "      for j in range(len(labels)):\n",
    "        if labels[i] == labels[j] and i != j:\n",
    "          for k in range(len(labels)):\n",
    "            if labels[i] != labels[k]:\n",
    "              triplets_i.append([i, j, k])\n",
    "      np.random.shuffle(triplets_i)\n",
    "      triplets += triplets_i[:3]\n",
    "    assert (triplets and len(triplets) < 2000)\n",
    "    #print(self.soft_triplet_loss(torch.cat([mod_img1, img2]), triplets))\n",
    "    soft_triplet_loss=TripletLoss()\n",
    "    return soft_triplet_loss(tf.concat([mod_img1, img2], axis= 0, name='concat'), triplets)\n"
   ]
  },
  {
   "cell_type": "code",
   "execution_count": null,
   "metadata": {
    "collapsed": false
   },
   "outputs": [],
   "source": [
    "def pairwise_distances(x, y=None):\n",
    "  \"\"\"\n",
    "    Input: x is a Nxd matrix\n",
    "           y is an optional Mxd matirx\n",
    "    Output: dist is a NxM matrix where dist[i,j] is the square norm between\n",
    "    x[i,:] and y[j,:]\n",
    "            if y is not given then use 'y=x'.\n",
    "    i.e. dist[i,j] = ||x[i,:]-y[j,:]||^2\n",
    "    source:\n",
    "    https://discuss.pytorch.org/t/efficient-distance-matrix-computation/9065/2\n",
    "    \"\"\"\n",
    "  x_norm1 = torch.from_numpy((x**2).numpy()).sum(1).view(-1, 1)\n",
    "  #print(x_norm1)\n",
    "  x_norm = tf.reshape(tf.reduce_sum(x**2,1), [-1, 1])\n",
    "  #print(x_norm1.numpy()-x_norm)\n",
    "  if y is not None:\n",
    "        y_t = tf.transpose(y, perm=[ 1, 0])\n",
    "        y_norm = tf.reshape(tf.reduce_sum(y**2,1), [-1, 1])\n",
    "        #print(\"y\",y_t.shape)\n",
    "  else:\n",
    "    y_t = tf.transpose(x,  perm=[1, 0]) \n",
    "    y_norm = tf.reshape(x_norm,[1,-1])\n",
    "    \n",
    "    y_t1 = torch.transpose(torch.from_numpy(x.numpy()), 0, 1)\n",
    "    y_norm1 =( x_norm1).view(1, -1)\n",
    "    #print(np.sum(y_norm-y_norm1.numpy()))\n",
    "\n",
    "  dist = x_norm + y_norm \n",
    "  dist = dist - 2.0 * tf.matmul(x, y_t)\n",
    "    \n",
    "  dist1= x_norm1 + y_norm1 - 2.0 * torch.mm(torch.from_numpy(x.numpy()), y_t1)\n",
    "  #print(\"torch clam\",torch.clamp(dist1, 0.0, np.inf)) \n",
    "  #print(\"TENSORFLO\",tf.clip_by_value(dist, clip_value_min= 0.0, clip_value_max=1000) )\n",
    "  \n",
    "  # Ensure diagonal is zero if x=y\n",
    "  # if y is None:\n",
    "  #     dist = dist - torch.diag(dist.diag)\n",
    "  return dist1\n",
    "class TripletLoss(tf.keras.Model):\n",
    "  \"\"\"Class for the triplet loss.\"\"\"\n",
    "  def __init__(self, pre_layer=None):\n",
    "    super(TripletLoss, self).__init__()\n",
    "    self.pre_layer = pre_layer\n",
    "\n",
    "  def call(self, x, triplets):\n",
    "    \n",
    "    if self.pre_layer is not None:\n",
    "      x = self.pre_layer(x)\n",
    "    \n",
    "    \n",
    "    #loss = MyTripletLossFunc(triplets)(x)\n",
    "\n",
    "    #modifications\n",
    "    self.triplets = triplets\n",
    "    #print(triplets)\n",
    "    self.triplet_count = len(triplets)\n",
    "    #self.distances = pairwise_distances(x).detach().cpu().numpy()\n",
    "    self.distances = pairwise_distances(x)\n",
    "    #print(np.max(self.distances) )\n",
    "    loss = 0.0\n",
    "    triplet_count = 0.0\n",
    "    correct_count = 0.0\n",
    "    max_loss=0\n",
    "    for i, j, k in self.triplets:\n",
    "      w = 1.0\n",
    "      triplet_count += w\n",
    "      loss += w * np.log(1 +np.exp(self.distances[i, j] - self.distances[i, k]))\n",
    "#       if (np.log(1 +np.exp(self.distances[i, j] - self.distances[i, k]))>10000):\n",
    "#             #print(self.distances[i, j] , self.distances[i, k],\"NEXT\")\n",
    "   \n",
    "      if self.distances[i, j] < self.distances[i, k]:\n",
    "        correct_count += 1\n",
    "    #print(triplet_count)\n",
    "    loss /= triplet_count\n",
    "    #print(loss)\n",
    "    return loss\n"
   ]
  },
  {
   "cell_type": "code",
   "execution_count": null,
   "metadata": {
    "collapsed": false
   },
   "outputs": [],
   "source": [
    "text_features=text_model(x['mod_str'])\n",
    "imgS=img_extractor(x['source'])\n",
    "imgT=img_extractor(x['target'])\n",
    "#                 print(text_features.shape,imgS.shape,imgT.shape)\n",
    "C_feature=TIRGmodel(text_features, imgS)\n",
    "print(compute_soft_triplet_loss_(C_feature,imgT))\n",
    "print(compute_soft_triplet_loss_(imgT,imgS))\n",
    "print(compute_soft_triplet_loss_(imgT,imgT))\n"
   ]
  },
  {
   "cell_type": "code",
   "execution_count": null,
   "metadata": {
    "collapsed": false
   },
   "outputs": [],
   "source": [
    "np.mean(imgS-imgT)"
   ]
  },
  {
   "cell_type": "code",
   "execution_count": 54,
   "metadata": {
    "collapsed": true
   },
   "outputs": [],
   "source": [
    "loss_plot = []"
   ]
  },
  {
   "cell_type": "code",
   "execution_count": 55,
   "metadata": {
    "collapsed": true
   },
   "outputs": [],
   "source": [
    "# img_model = ResnetIdentityBlock()\n",
    "# text_model = TextLSTMModel(\n",
    "#                     texts_to_build_vocab=texts,\n",
    "#                     word_embed_dim=embed_dim,\n",
    "#                     lstm_hidden_dim=embed_dim)\n",
    "# compose=Composer()"
   ]
  },
  {
   "cell_type": "code",
   "execution_count": 56,
   "metadata": {
    "collapsed": false
   },
   "outputs": [],
   "source": [
    "# t_img=my_seq2(x['target'])\n",
    "# print(s_img.shape)\n",
    "# s_img=my_seq2(x['source'])\n",
    "# print(t_img.shape)\n",
    "# text_features=text_model.forward_encoded_texts(x['mod_str'])\n",
    "# C_feature=compose(s_img, text_features)\n",
    "\n",
    "\n",
    "# compute_soft_triplet_loss_(C_feature,s_img)\n",
    "#loss2(C_feature,t_img)"
   ]
  },
  {
   "cell_type": "code",
   "execution_count": 73,
   "metadata": {
    "collapsed": false
   },
   "outputs": [],
   "source": [
    "text_model = TextLSTMModel(\n",
    "                    texts_to_build_vocab=texts,\n",
    "                    word_embed_dim=embed_dim,\n",
    "                    lstm_hidden_dim=embed_dim)"
   ]
  },
  {
   "cell_type": "code",
   "execution_count": 74,
   "metadata": {
    "collapsed": true
   },
   "outputs": [],
   "source": [
    "IMG_SHAPE = (224, 224, 3)\n",
    "base_model =tf.keras.applications.ResNet50(\n",
    "    include_top=False, weights='imagenet', input_shape=IMG_SHAPE)\n",
    "base_model.trainable = True\n"
   ]
  },
  {
   "cell_type": "code",
   "execution_count": 75,
   "metadata": {
    "collapsed": false
   },
   "outputs": [],
   "source": [
    "base_model=tf.keras.applications.MobileNetV2(input_shape=IMG_SHAPE,\n",
    "                                               include_top=False,\n",
    "                                               weights='imagenet')\n"
   ]
  },
  {
   "cell_type": "code",
   "execution_count": 76,
   "metadata": {
    "collapsed": false
   },
   "outputs": [
    {
     "name": "stdout",
     "output_type": "stream",
     "text": [
      "Model: \"mobilenetv2_1.00_224\"\n",
      "__________________________________________________________________________________________________\n",
      "Layer (type)                    Output Shape         Param #     Connected to                     \n",
      "==================================================================================================\n",
      "input_6 (InputLayer)            [(None, 224, 224, 3) 0                                            \n",
      "__________________________________________________________________________________________________\n",
      "Conv1_pad (ZeroPadding2D)       (None, 225, 225, 3)  0           input_6[0][0]                    \n",
      "__________________________________________________________________________________________________\n",
      "Conv1 (Conv2D)                  (None, 112, 112, 32) 864         Conv1_pad[0][0]                  \n",
      "__________________________________________________________________________________________________\n",
      "bn_Conv1 (BatchNormalization)   (None, 112, 112, 32) 128         Conv1[0][0]                      \n",
      "__________________________________________________________________________________________________\n",
      "Conv1_relu (ReLU)               (None, 112, 112, 32) 0           bn_Conv1[0][0]                   \n",
      "__________________________________________________________________________________________________\n",
      "expanded_conv_depthwise (Depthw (None, 112, 112, 32) 288         Conv1_relu[0][0]                 \n",
      "__________________________________________________________________________________________________\n",
      "expanded_conv_depthwise_BN (Bat (None, 112, 112, 32) 128         expanded_conv_depthwise[0][0]    \n",
      "__________________________________________________________________________________________________\n",
      "expanded_conv_depthwise_relu (R (None, 112, 112, 32) 0           expanded_conv_depthwise_BN[0][0] \n",
      "__________________________________________________________________________________________________\n",
      "expanded_conv_project (Conv2D)  (None, 112, 112, 16) 512         expanded_conv_depthwise_relu[0][0\n",
      "__________________________________________________________________________________________________\n",
      "expanded_conv_project_BN (Batch (None, 112, 112, 16) 64          expanded_conv_project[0][0]      \n",
      "__________________________________________________________________________________________________\n",
      "block_1_expand (Conv2D)         (None, 112, 112, 96) 1536        expanded_conv_project_BN[0][0]   \n",
      "__________________________________________________________________________________________________\n",
      "block_1_expand_BN (BatchNormali (None, 112, 112, 96) 384         block_1_expand[0][0]             \n",
      "__________________________________________________________________________________________________\n",
      "block_1_expand_relu (ReLU)      (None, 112, 112, 96) 0           block_1_expand_BN[0][0]          \n",
      "__________________________________________________________________________________________________\n",
      "block_1_pad (ZeroPadding2D)     (None, 113, 113, 96) 0           block_1_expand_relu[0][0]        \n",
      "__________________________________________________________________________________________________\n",
      "block_1_depthwise (DepthwiseCon (None, 56, 56, 96)   864         block_1_pad[0][0]                \n",
      "__________________________________________________________________________________________________\n",
      "block_1_depthwise_BN (BatchNorm (None, 56, 56, 96)   384         block_1_depthwise[0][0]          \n",
      "__________________________________________________________________________________________________\n",
      "block_1_depthwise_relu (ReLU)   (None, 56, 56, 96)   0           block_1_depthwise_BN[0][0]       \n",
      "__________________________________________________________________________________________________\n",
      "block_1_project (Conv2D)        (None, 56, 56, 24)   2304        block_1_depthwise_relu[0][0]     \n",
      "__________________________________________________________________________________________________\n",
      "block_1_project_BN (BatchNormal (None, 56, 56, 24)   96          block_1_project[0][0]            \n",
      "__________________________________________________________________________________________________\n",
      "block_2_expand (Conv2D)         (None, 56, 56, 144)  3456        block_1_project_BN[0][0]         \n",
      "__________________________________________________________________________________________________\n",
      "block_2_expand_BN (BatchNormali (None, 56, 56, 144)  576         block_2_expand[0][0]             \n",
      "__________________________________________________________________________________________________\n",
      "block_2_expand_relu (ReLU)      (None, 56, 56, 144)  0           block_2_expand_BN[0][0]          \n",
      "__________________________________________________________________________________________________\n",
      "block_2_depthwise (DepthwiseCon (None, 56, 56, 144)  1296        block_2_expand_relu[0][0]        \n",
      "__________________________________________________________________________________________________\n",
      "block_2_depthwise_BN (BatchNorm (None, 56, 56, 144)  576         block_2_depthwise[0][0]          \n",
      "__________________________________________________________________________________________________\n",
      "block_2_depthwise_relu (ReLU)   (None, 56, 56, 144)  0           block_2_depthwise_BN[0][0]       \n",
      "__________________________________________________________________________________________________\n",
      "block_2_project (Conv2D)        (None, 56, 56, 24)   3456        block_2_depthwise_relu[0][0]     \n",
      "__________________________________________________________________________________________________\n",
      "block_2_project_BN (BatchNormal (None, 56, 56, 24)   96          block_2_project[0][0]            \n",
      "__________________________________________________________________________________________________\n",
      "block_2_add (Add)               (None, 56, 56, 24)   0           block_1_project_BN[0][0]         \n",
      "                                                                 block_2_project_BN[0][0]         \n",
      "__________________________________________________________________________________________________\n",
      "block_3_expand (Conv2D)         (None, 56, 56, 144)  3456        block_2_add[0][0]                \n",
      "__________________________________________________________________________________________________\n",
      "block_3_expand_BN (BatchNormali (None, 56, 56, 144)  576         block_3_expand[0][0]             \n",
      "__________________________________________________________________________________________________\n",
      "block_3_expand_relu (ReLU)      (None, 56, 56, 144)  0           block_3_expand_BN[0][0]          \n",
      "__________________________________________________________________________________________________\n",
      "block_3_pad (ZeroPadding2D)     (None, 57, 57, 144)  0           block_3_expand_relu[0][0]        \n",
      "__________________________________________________________________________________________________\n",
      "block_3_depthwise (DepthwiseCon (None, 28, 28, 144)  1296        block_3_pad[0][0]                \n",
      "__________________________________________________________________________________________________\n",
      "block_3_depthwise_BN (BatchNorm (None, 28, 28, 144)  576         block_3_depthwise[0][0]          \n",
      "__________________________________________________________________________________________________\n",
      "block_3_depthwise_relu (ReLU)   (None, 28, 28, 144)  0           block_3_depthwise_BN[0][0]       \n",
      "__________________________________________________________________________________________________\n",
      "block_3_project (Conv2D)        (None, 28, 28, 32)   4608        block_3_depthwise_relu[0][0]     \n",
      "__________________________________________________________________________________________________\n",
      "block_3_project_BN (BatchNormal (None, 28, 28, 32)   128         block_3_project[0][0]            \n",
      "__________________________________________________________________________________________________\n",
      "block_4_expand (Conv2D)         (None, 28, 28, 192)  6144        block_3_project_BN[0][0]         \n",
      "__________________________________________________________________________________________________\n",
      "block_4_expand_BN (BatchNormali (None, 28, 28, 192)  768         block_4_expand[0][0]             \n",
      "__________________________________________________________________________________________________\n",
      "block_4_expand_relu (ReLU)      (None, 28, 28, 192)  0           block_4_expand_BN[0][0]          \n",
      "__________________________________________________________________________________________________\n",
      "block_4_depthwise (DepthwiseCon (None, 28, 28, 192)  1728        block_4_expand_relu[0][0]        \n",
      "__________________________________________________________________________________________________\n",
      "block_4_depthwise_BN (BatchNorm (None, 28, 28, 192)  768         block_4_depthwise[0][0]          \n",
      "__________________________________________________________________________________________________\n",
      "block_4_depthwise_relu (ReLU)   (None, 28, 28, 192)  0           block_4_depthwise_BN[0][0]       \n",
      "__________________________________________________________________________________________________\n",
      "block_4_project (Conv2D)        (None, 28, 28, 32)   6144        block_4_depthwise_relu[0][0]     \n",
      "__________________________________________________________________________________________________\n",
      "block_4_project_BN (BatchNormal (None, 28, 28, 32)   128         block_4_project[0][0]            \n",
      "__________________________________________________________________________________________________\n",
      "block_4_add (Add)               (None, 28, 28, 32)   0           block_3_project_BN[0][0]         \n",
      "                                                                 block_4_project_BN[0][0]         \n",
      "__________________________________________________________________________________________________\n",
      "block_5_expand (Conv2D)         (None, 28, 28, 192)  6144        block_4_add[0][0]                \n",
      "__________________________________________________________________________________________________\n",
      "block_5_expand_BN (BatchNormali (None, 28, 28, 192)  768         block_5_expand[0][0]             \n",
      "__________________________________________________________________________________________________\n",
      "block_5_expand_relu (ReLU)      (None, 28, 28, 192)  0           block_5_expand_BN[0][0]          \n",
      "__________________________________________________________________________________________________\n",
      "block_5_depthwise (DepthwiseCon (None, 28, 28, 192)  1728        block_5_expand_relu[0][0]        \n",
      "__________________________________________________________________________________________________\n",
      "block_5_depthwise_BN (BatchNorm (None, 28, 28, 192)  768         block_5_depthwise[0][0]          \n",
      "__________________________________________________________________________________________________\n",
      "block_5_depthwise_relu (ReLU)   (None, 28, 28, 192)  0           block_5_depthwise_BN[0][0]       \n",
      "__________________________________________________________________________________________________\n",
      "block_5_project (Conv2D)        (None, 28, 28, 32)   6144        block_5_depthwise_relu[0][0]     \n",
      "__________________________________________________________________________________________________\n",
      "block_5_project_BN (BatchNormal (None, 28, 28, 32)   128         block_5_project[0][0]            \n",
      "__________________________________________________________________________________________________\n",
      "block_5_add (Add)               (None, 28, 28, 32)   0           block_4_add[0][0]                \n",
      "                                                                 block_5_project_BN[0][0]         \n",
      "__________________________________________________________________________________________________\n",
      "block_6_expand (Conv2D)         (None, 28, 28, 192)  6144        block_5_add[0][0]                \n",
      "__________________________________________________________________________________________________\n",
      "block_6_expand_BN (BatchNormali (None, 28, 28, 192)  768         block_6_expand[0][0]             \n",
      "__________________________________________________________________________________________________\n",
      "block_6_expand_relu (ReLU)      (None, 28, 28, 192)  0           block_6_expand_BN[0][0]          \n",
      "__________________________________________________________________________________________________\n",
      "block_6_pad (ZeroPadding2D)     (None, 29, 29, 192)  0           block_6_expand_relu[0][0]        \n",
      "__________________________________________________________________________________________________\n",
      "block_6_depthwise (DepthwiseCon (None, 14, 14, 192)  1728        block_6_pad[0][0]                \n",
      "__________________________________________________________________________________________________\n",
      "block_6_depthwise_BN (BatchNorm (None, 14, 14, 192)  768         block_6_depthwise[0][0]          \n",
      "__________________________________________________________________________________________________\n",
      "block_6_depthwise_relu (ReLU)   (None, 14, 14, 192)  0           block_6_depthwise_BN[0][0]       \n",
      "__________________________________________________________________________________________________\n",
      "block_6_project (Conv2D)        (None, 14, 14, 64)   12288       block_6_depthwise_relu[0][0]     \n",
      "__________________________________________________________________________________________________\n",
      "block_6_project_BN (BatchNormal (None, 14, 14, 64)   256         block_6_project[0][0]            \n",
      "__________________________________________________________________________________________________\n",
      "block_7_expand (Conv2D)         (None, 14, 14, 384)  24576       block_6_project_BN[0][0]         \n",
      "__________________________________________________________________________________________________\n",
      "block_7_expand_BN (BatchNormali (None, 14, 14, 384)  1536        block_7_expand[0][0]             \n",
      "__________________________________________________________________________________________________\n",
      "block_7_expand_relu (ReLU)      (None, 14, 14, 384)  0           block_7_expand_BN[0][0]          \n",
      "__________________________________________________________________________________________________\n",
      "block_7_depthwise (DepthwiseCon (None, 14, 14, 384)  3456        block_7_expand_relu[0][0]        \n",
      "__________________________________________________________________________________________________\n",
      "block_7_depthwise_BN (BatchNorm (None, 14, 14, 384)  1536        block_7_depthwise[0][0]          \n",
      "__________________________________________________________________________________________________\n",
      "block_7_depthwise_relu (ReLU)   (None, 14, 14, 384)  0           block_7_depthwise_BN[0][0]       \n",
      "__________________________________________________________________________________________________\n",
      "block_7_project (Conv2D)        (None, 14, 14, 64)   24576       block_7_depthwise_relu[0][0]     \n",
      "__________________________________________________________________________________________________\n",
      "block_7_project_BN (BatchNormal (None, 14, 14, 64)   256         block_7_project[0][0]            \n",
      "__________________________________________________________________________________________________\n",
      "block_7_add (Add)               (None, 14, 14, 64)   0           block_6_project_BN[0][0]         \n",
      "                                                                 block_7_project_BN[0][0]         \n",
      "__________________________________________________________________________________________________\n",
      "block_8_expand (Conv2D)         (None, 14, 14, 384)  24576       block_7_add[0][0]                \n",
      "__________________________________________________________________________________________________\n",
      "block_8_expand_BN (BatchNormali (None, 14, 14, 384)  1536        block_8_expand[0][0]             \n",
      "__________________________________________________________________________________________________\n",
      "block_8_expand_relu (ReLU)      (None, 14, 14, 384)  0           block_8_expand_BN[0][0]          \n",
      "__________________________________________________________________________________________________\n",
      "block_8_depthwise (DepthwiseCon (None, 14, 14, 384)  3456        block_8_expand_relu[0][0]        \n",
      "__________________________________________________________________________________________________\n",
      "block_8_depthwise_BN (BatchNorm (None, 14, 14, 384)  1536        block_8_depthwise[0][0]          \n",
      "__________________________________________________________________________________________________\n",
      "block_8_depthwise_relu (ReLU)   (None, 14, 14, 384)  0           block_8_depthwise_BN[0][0]       \n",
      "__________________________________________________________________________________________________\n",
      "block_8_project (Conv2D)        (None, 14, 14, 64)   24576       block_8_depthwise_relu[0][0]     \n",
      "__________________________________________________________________________________________________\n",
      "block_8_project_BN (BatchNormal (None, 14, 14, 64)   256         block_8_project[0][0]            \n",
      "__________________________________________________________________________________________________\n",
      "block_8_add (Add)               (None, 14, 14, 64)   0           block_7_add[0][0]                \n",
      "                                                                 block_8_project_BN[0][0]         \n",
      "__________________________________________________________________________________________________\n",
      "block_9_expand (Conv2D)         (None, 14, 14, 384)  24576       block_8_add[0][0]                \n",
      "__________________________________________________________________________________________________\n",
      "block_9_expand_BN (BatchNormali (None, 14, 14, 384)  1536        block_9_expand[0][0]             \n",
      "__________________________________________________________________________________________________\n",
      "block_9_expand_relu (ReLU)      (None, 14, 14, 384)  0           block_9_expand_BN[0][0]          \n",
      "__________________________________________________________________________________________________\n",
      "block_9_depthwise (DepthwiseCon (None, 14, 14, 384)  3456        block_9_expand_relu[0][0]        \n",
      "__________________________________________________________________________________________________\n",
      "block_9_depthwise_BN (BatchNorm (None, 14, 14, 384)  1536        block_9_depthwise[0][0]          \n",
      "__________________________________________________________________________________________________\n",
      "block_9_depthwise_relu (ReLU)   (None, 14, 14, 384)  0           block_9_depthwise_BN[0][0]       \n",
      "__________________________________________________________________________________________________\n",
      "block_9_project (Conv2D)        (None, 14, 14, 64)   24576       block_9_depthwise_relu[0][0]     \n",
      "__________________________________________________________________________________________________\n",
      "block_9_project_BN (BatchNormal (None, 14, 14, 64)   256         block_9_project[0][0]            \n",
      "__________________________________________________________________________________________________\n",
      "block_9_add (Add)               (None, 14, 14, 64)   0           block_8_add[0][0]                \n",
      "                                                                 block_9_project_BN[0][0]         \n",
      "__________________________________________________________________________________________________\n",
      "block_10_expand (Conv2D)        (None, 14, 14, 384)  24576       block_9_add[0][0]                \n",
      "__________________________________________________________________________________________________\n",
      "block_10_expand_BN (BatchNormal (None, 14, 14, 384)  1536        block_10_expand[0][0]            \n",
      "__________________________________________________________________________________________________\n",
      "block_10_expand_relu (ReLU)     (None, 14, 14, 384)  0           block_10_expand_BN[0][0]         \n",
      "__________________________________________________________________________________________________\n",
      "block_10_depthwise (DepthwiseCo (None, 14, 14, 384)  3456        block_10_expand_relu[0][0]       \n",
      "__________________________________________________________________________________________________\n",
      "block_10_depthwise_BN (BatchNor (None, 14, 14, 384)  1536        block_10_depthwise[0][0]         \n",
      "__________________________________________________________________________________________________\n",
      "block_10_depthwise_relu (ReLU)  (None, 14, 14, 384)  0           block_10_depthwise_BN[0][0]      \n",
      "__________________________________________________________________________________________________\n",
      "block_10_project (Conv2D)       (None, 14, 14, 96)   36864       block_10_depthwise_relu[0][0]    \n",
      "__________________________________________________________________________________________________\n",
      "block_10_project_BN (BatchNorma (None, 14, 14, 96)   384         block_10_project[0][0]           \n",
      "__________________________________________________________________________________________________\n",
      "block_11_expand (Conv2D)        (None, 14, 14, 576)  55296       block_10_project_BN[0][0]        \n",
      "__________________________________________________________________________________________________\n",
      "block_11_expand_BN (BatchNormal (None, 14, 14, 576)  2304        block_11_expand[0][0]            \n",
      "__________________________________________________________________________________________________\n",
      "block_11_expand_relu (ReLU)     (None, 14, 14, 576)  0           block_11_expand_BN[0][0]         \n",
      "__________________________________________________________________________________________________\n",
      "block_11_depthwise (DepthwiseCo (None, 14, 14, 576)  5184        block_11_expand_relu[0][0]       \n",
      "__________________________________________________________________________________________________\n",
      "block_11_depthwise_BN (BatchNor (None, 14, 14, 576)  2304        block_11_depthwise[0][0]         \n",
      "__________________________________________________________________________________________________\n",
      "block_11_depthwise_relu (ReLU)  (None, 14, 14, 576)  0           block_11_depthwise_BN[0][0]      \n",
      "__________________________________________________________________________________________________\n",
      "block_11_project (Conv2D)       (None, 14, 14, 96)   55296       block_11_depthwise_relu[0][0]    \n",
      "__________________________________________________________________________________________________\n",
      "block_11_project_BN (BatchNorma (None, 14, 14, 96)   384         block_11_project[0][0]           \n",
      "__________________________________________________________________________________________________\n",
      "block_11_add (Add)              (None, 14, 14, 96)   0           block_10_project_BN[0][0]        \n",
      "                                                                 block_11_project_BN[0][0]        \n",
      "__________________________________________________________________________________________________\n",
      "block_12_expand (Conv2D)        (None, 14, 14, 576)  55296       block_11_add[0][0]               \n",
      "__________________________________________________________________________________________________\n",
      "block_12_expand_BN (BatchNormal (None, 14, 14, 576)  2304        block_12_expand[0][0]            \n",
      "__________________________________________________________________________________________________\n",
      "block_12_expand_relu (ReLU)     (None, 14, 14, 576)  0           block_12_expand_BN[0][0]         \n",
      "__________________________________________________________________________________________________\n",
      "block_12_depthwise (DepthwiseCo (None, 14, 14, 576)  5184        block_12_expand_relu[0][0]       \n",
      "__________________________________________________________________________________________________\n",
      "block_12_depthwise_BN (BatchNor (None, 14, 14, 576)  2304        block_12_depthwise[0][0]         \n",
      "__________________________________________________________________________________________________\n",
      "block_12_depthwise_relu (ReLU)  (None, 14, 14, 576)  0           block_12_depthwise_BN[0][0]      \n",
      "__________________________________________________________________________________________________\n",
      "block_12_project (Conv2D)       (None, 14, 14, 96)   55296       block_12_depthwise_relu[0][0]    \n",
      "__________________________________________________________________________________________________\n",
      "block_12_project_BN (BatchNorma (None, 14, 14, 96)   384         block_12_project[0][0]           \n",
      "__________________________________________________________________________________________________\n",
      "block_12_add (Add)              (None, 14, 14, 96)   0           block_11_add[0][0]               \n",
      "                                                                 block_12_project_BN[0][0]        \n",
      "__________________________________________________________________________________________________\n",
      "block_13_expand (Conv2D)        (None, 14, 14, 576)  55296       block_12_add[0][0]               \n",
      "__________________________________________________________________________________________________\n",
      "block_13_expand_BN (BatchNormal (None, 14, 14, 576)  2304        block_13_expand[0][0]            \n",
      "__________________________________________________________________________________________________\n",
      "block_13_expand_relu (ReLU)     (None, 14, 14, 576)  0           block_13_expand_BN[0][0]         \n",
      "__________________________________________________________________________________________________\n",
      "block_13_pad (ZeroPadding2D)    (None, 15, 15, 576)  0           block_13_expand_relu[0][0]       \n",
      "__________________________________________________________________________________________________\n",
      "block_13_depthwise (DepthwiseCo (None, 7, 7, 576)    5184        block_13_pad[0][0]               \n",
      "__________________________________________________________________________________________________\n",
      "block_13_depthwise_BN (BatchNor (None, 7, 7, 576)    2304        block_13_depthwise[0][0]         \n",
      "__________________________________________________________________________________________________\n",
      "block_13_depthwise_relu (ReLU)  (None, 7, 7, 576)    0           block_13_depthwise_BN[0][0]      \n",
      "__________________________________________________________________________________________________\n",
      "block_13_project (Conv2D)       (None, 7, 7, 160)    92160       block_13_depthwise_relu[0][0]    \n",
      "__________________________________________________________________________________________________\n",
      "block_13_project_BN (BatchNorma (None, 7, 7, 160)    640         block_13_project[0][0]           \n",
      "__________________________________________________________________________________________________\n",
      "block_14_expand (Conv2D)        (None, 7, 7, 960)    153600      block_13_project_BN[0][0]        \n",
      "__________________________________________________________________________________________________\n",
      "block_14_expand_BN (BatchNormal (None, 7, 7, 960)    3840        block_14_expand[0][0]            \n",
      "__________________________________________________________________________________________________\n",
      "block_14_expand_relu (ReLU)     (None, 7, 7, 960)    0           block_14_expand_BN[0][0]         \n",
      "__________________________________________________________________________________________________\n",
      "block_14_depthwise (DepthwiseCo (None, 7, 7, 960)    8640        block_14_expand_relu[0][0]       \n",
      "__________________________________________________________________________________________________\n",
      "block_14_depthwise_BN (BatchNor (None, 7, 7, 960)    3840        block_14_depthwise[0][0]         \n",
      "__________________________________________________________________________________________________\n",
      "block_14_depthwise_relu (ReLU)  (None, 7, 7, 960)    0           block_14_depthwise_BN[0][0]      \n",
      "__________________________________________________________________________________________________\n",
      "block_14_project (Conv2D)       (None, 7, 7, 160)    153600      block_14_depthwise_relu[0][0]    \n",
      "__________________________________________________________________________________________________\n",
      "block_14_project_BN (BatchNorma (None, 7, 7, 160)    640         block_14_project[0][0]           \n",
      "__________________________________________________________________________________________________\n",
      "block_14_add (Add)              (None, 7, 7, 160)    0           block_13_project_BN[0][0]        \n",
      "                                                                 block_14_project_BN[0][0]        \n",
      "__________________________________________________________________________________________________\n",
      "block_15_expand (Conv2D)        (None, 7, 7, 960)    153600      block_14_add[0][0]               \n",
      "__________________________________________________________________________________________________\n",
      "block_15_expand_BN (BatchNormal (None, 7, 7, 960)    3840        block_15_expand[0][0]            \n",
      "__________________________________________________________________________________________________\n",
      "block_15_expand_relu (ReLU)     (None, 7, 7, 960)    0           block_15_expand_BN[0][0]         \n",
      "__________________________________________________________________________________________________\n",
      "block_15_depthwise (DepthwiseCo (None, 7, 7, 960)    8640        block_15_expand_relu[0][0]       \n",
      "__________________________________________________________________________________________________\n",
      "block_15_depthwise_BN (BatchNor (None, 7, 7, 960)    3840        block_15_depthwise[0][0]         \n",
      "__________________________________________________________________________________________________\n",
      "block_15_depthwise_relu (ReLU)  (None, 7, 7, 960)    0           block_15_depthwise_BN[0][0]      \n",
      "__________________________________________________________________________________________________\n",
      "block_15_project (Conv2D)       (None, 7, 7, 160)    153600      block_15_depthwise_relu[0][0]    \n",
      "__________________________________________________________________________________________________\n",
      "block_15_project_BN (BatchNorma (None, 7, 7, 160)    640         block_15_project[0][0]           \n",
      "__________________________________________________________________________________________________\n",
      "block_15_add (Add)              (None, 7, 7, 160)    0           block_14_add[0][0]               \n",
      "                                                                 block_15_project_BN[0][0]        \n",
      "__________________________________________________________________________________________________\n",
      "block_16_expand (Conv2D)        (None, 7, 7, 960)    153600      block_15_add[0][0]               \n",
      "__________________________________________________________________________________________________\n",
      "block_16_expand_BN (BatchNormal (None, 7, 7, 960)    3840        block_16_expand[0][0]            \n",
      "__________________________________________________________________________________________________\n",
      "block_16_expand_relu (ReLU)     (None, 7, 7, 960)    0           block_16_expand_BN[0][0]         \n",
      "__________________________________________________________________________________________________\n",
      "block_16_depthwise (DepthwiseCo (None, 7, 7, 960)    8640        block_16_expand_relu[0][0]       \n",
      "__________________________________________________________________________________________________\n",
      "block_16_depthwise_BN (BatchNor (None, 7, 7, 960)    3840        block_16_depthwise[0][0]         \n",
      "__________________________________________________________________________________________________\n",
      "block_16_depthwise_relu (ReLU)  (None, 7, 7, 960)    0           block_16_depthwise_BN[0][0]      \n",
      "__________________________________________________________________________________________________\n",
      "block_16_project (Conv2D)       (None, 7, 7, 320)    307200      block_16_depthwise_relu[0][0]    \n",
      "__________________________________________________________________________________________________\n",
      "block_16_project_BN (BatchNorma (None, 7, 7, 320)    1280        block_16_project[0][0]           \n",
      "__________________________________________________________________________________________________\n",
      "Conv_1 (Conv2D)                 (None, 7, 7, 1280)   409600      block_16_project_BN[0][0]        \n",
      "__________________________________________________________________________________________________\n",
      "Conv_1_bn (BatchNormalization)  (None, 7, 7, 1280)   5120        Conv_1[0][0]                     \n",
      "__________________________________________________________________________________________________\n",
      "out_relu (ReLU)                 (None, 7, 7, 1280)   0           Conv_1_bn[0][0]                  \n",
      "==================================================================================================\n",
      "Total params: 2,257,984\n",
      "Trainable params: 2,223,872\n",
      "Non-trainable params: 34,112\n",
      "__________________________________________________________________________________________________\n"
     ]
    }
   ],
   "source": [
    "base_model.summary()"
   ]
  },
  {
   "cell_type": "code",
   "execution_count": 77,
   "metadata": {
    "collapsed": false
   },
   "outputs": [
    {
     "name": "stdout",
     "output_type": "stream",
     "text": [
      "Number of layers in the base model:  155\n"
     ]
    }
   ],
   "source": [
    "print(\"Number of layers in the base model: \", len(base_model.layers))"
   ]
  },
  {
   "cell_type": "code",
   "execution_count": 78,
   "metadata": {
    "collapsed": false
   },
   "outputs": [
    {
     "name": "stdout",
     "output_type": "stream",
     "text": [
      "Number of layers in the base model:  155\n"
     ]
    }
   ],
   "source": [
    "# Let's take a look to see how many layers are in the base model\n",
    "print(\"Number of layers in the base model: \", len(base_model.layers))\n",
    "base_model.trainable = True\n",
    "# Fine-tune from this layer onwards\n",
    "fine_tune_at = 0\n",
    "\n",
    "# Freeze all the layers before the `fine_tune_at` layer\n",
    "for layer in base_model.layers[:fine_tune_at]:\n",
    "      layer.trainable =  False"
   ]
  },
  {
   "cell_type": "code",
   "execution_count": 79,
   "metadata": {
    "collapsed": false
   },
   "outputs": [
    {
     "name": "stdout",
     "output_type": "stream",
     "text": [
      "Model: \"sequential_12\"\n",
      "_________________________________________________________________\n",
      "Layer (type)                 Output Shape              Param #   \n",
      "=================================================================\n",
      "mobilenetv2_1.00_224 (Model) (None, 7, 7, 1280)        2257984   \n",
      "_________________________________________________________________\n",
      "global_max_pooling2d_1 (Glob (None, 1280)              0         \n",
      "_________________________________________________________________\n",
      "batch_normalization_8 (Batch (None, 1280)              5120      \n",
      "=================================================================\n",
      "Total params: 2,263,104\n",
      "Trainable params: 2,226,432\n",
      "Non-trainable params: 36,672\n",
      "_________________________________________________________________\n"
     ]
    }
   ],
   "source": [
    "img_extractor = tf.keras.Sequential([\n",
    "  base_model,\n",
    "  tf.keras.layers.GlobalMaxPooling2D(data_format=None),\n",
    "  tf.keras.layers.BatchNormalization()\n",
    "])\n",
    "img_extractor.summary()"
   ]
  },
  {
   "cell_type": "code",
   "execution_count": 80,
   "metadata": {
    "collapsed": false
   },
   "outputs": [],
   "source": [
    "TIRGmodel=TIRG(texts,1280)"
   ]
  },
  {
   "cell_type": "code",
   "execution_count": 81,
   "metadata": {
    "collapsed": false
   },
   "outputs": [],
   "source": [
    "optimizer1 = tf.keras.optimizers.Adam(learning_rate=0.00001)\n",
    "optimizer2 = tf.keras.optimizers.Adam(learning_rate=0.0001)\n",
    "optimizer3 = tf.keras.optimizers.Adam(learning_rate=0.0001)\n",
    "def train_step(x):\n",
    "        loss = 0\n",
    "        with tf.GradientTape() as tape1, tf.GradientTape() as tape2, tf.GradientTape() as tape3:\n",
    "#                 print(x['source'].shape,x['target'].shape)\n",
    "                text_features=text_model(x['mod_str'])\n",
    "                imgS=img_extractor(x['source'])\n",
    "                imgT=img_extractor(x['target'])\n",
    "                #print(text_features.shape,imgS.shape,imgT.shape)\n",
    "                C_feature=TIRGmodel(text_features, imgS)\n",
    "                loss=loss2(C_feature,imgT)\n",
    "                #loss=loss+loss2(imgT,imgT)\n",
    "                #print(loss)\n",
    "\n",
    "#         trainable_variables1 = img_extractor.trainable_variables \n",
    "#         trainable_variables2 = TIRGmodel.trainable_variables\n",
    "#         trainable_variables3 = text_model.trainable_variables\n",
    "\n",
    "        gradients_of_generator = tape1.gradient(loss,TIRGmodel.trainable_variables) \n",
    "        optimizer2.apply_gradients(zip(gradients_of_generator, TIRGmodel.trainable_variables))\n",
    "        \n",
    "        gradients_of_d = tape2.gradient(loss,text_model.trainable_variables) \n",
    "        optimizer3.apply_gradients(zip(gradients_of_d, text_model.trainable_variables))\n",
    "        \n",
    "        gradients_of_d = tape3.gradient(loss,img_extractor.trainable_variables) \n",
    "        optimizer1.apply_gradients(zip(gradients_of_d, img_extractor.trainable_variables))\n",
    "        \n",
    "        \n",
    "    \n",
    "\n",
    "        #optimizer1.apply_gradients(zip(D1, trainable_variables1))\n",
    "        #optimizer2.apply_gradients(zip(D2, trainable_variables2))\n",
    "\n",
    "        return loss"
   ]
  },
  {
   "cell_type": "code",
   "execution_count": 82,
   "metadata": {
    "collapsed": false
   },
   "outputs": [
    {
     "name": "stdout",
     "output_type": "stream",
     "text": [
      "Epoch 0\n"
     ]
    },
    {
     "ename": "ResourceExhaustedError",
     "evalue": "OOM when allocating tensor with shape[32,56,56,96] and type float on /job:localhost/replica:0/task:0/device:GPU:0 by allocator GPU_0_bfc [Op:DepthwiseConv2dNative] name: sequential_12/mobilenetv2_1.00_224/block_1_depthwise/depthwise/",
     "output_type": "error",
     "traceback": [
      "\u001b[0;31m---------------------------------------------------------------------------\u001b[0m",
      "\u001b[0;31mResourceExhaustedError\u001b[0m                    Traceback (most recent call last)",
      "\u001b[0;32m<ipython-input-82-bd1987d68997>\u001b[0m in \u001b[0;36m<module>\u001b[0;34m\u001b[0m\n\u001b[1;32m      7\u001b[0m     \u001b[0mprint\u001b[0m\u001b[0;34m(\u001b[0m\u001b[0;34m\"Epoch\"\u001b[0m\u001b[0;34m,\u001b[0m\u001b[0mepoch\u001b[0m\u001b[0;34m,\u001b[0m\u001b[0;34m)\u001b[0m\u001b[0;34m\u001b[0m\u001b[0m\n\u001b[1;32m      8\u001b[0m     \u001b[0;32mfor\u001b[0m \u001b[0;34m(\u001b[0m\u001b[0mbatch\u001b[0m\u001b[0;34m,\u001b[0m \u001b[0mx\u001b[0m\u001b[0;34m)\u001b[0m \u001b[0;32min\u001b[0m \u001b[0menumerate\u001b[0m\u001b[0;34m(\u001b[0m\u001b[0mimage_dataset\u001b[0m\u001b[0;34m)\u001b[0m\u001b[0;34m:\u001b[0m\u001b[0;34m\u001b[0m\u001b[0m\n\u001b[0;32m----> 9\u001b[0;31m         \u001b[0mt_loss\u001b[0m \u001b[0;34m=\u001b[0m \u001b[0mtrain_step\u001b[0m\u001b[0;34m(\u001b[0m\u001b[0mx\u001b[0m\u001b[0;34m)\u001b[0m\u001b[0;34m\u001b[0m\u001b[0m\n\u001b[0m\u001b[1;32m     10\u001b[0m         \u001b[0mbatchloss\u001b[0m\u001b[0;34m+=\u001b[0m\u001b[0mt_loss\u001b[0m\u001b[0;34m\u001b[0m\u001b[0m\n\u001b[1;32m     11\u001b[0m         \u001b[0mtotal_loss\u001b[0m \u001b[0;34m+=\u001b[0m \u001b[0mt_loss\u001b[0m\u001b[0;34m\u001b[0m\u001b[0m\n",
      "\u001b[0;32m<ipython-input-81-2105672da180>\u001b[0m in \u001b[0;36mtrain_step\u001b[0;34m(x)\u001b[0m\n\u001b[1;32m      7\u001b[0m \u001b[0;31m#                 print(x['source'].shape,x['target'].shape)\u001b[0m\u001b[0;34m\u001b[0m\u001b[0;34m\u001b[0m\u001b[0m\n\u001b[1;32m      8\u001b[0m                 \u001b[0mtext_features\u001b[0m\u001b[0;34m=\u001b[0m\u001b[0mtext_model\u001b[0m\u001b[0;34m(\u001b[0m\u001b[0mx\u001b[0m\u001b[0;34m[\u001b[0m\u001b[0;34m'mod_str'\u001b[0m\u001b[0;34m]\u001b[0m\u001b[0;34m)\u001b[0m\u001b[0;34m\u001b[0m\u001b[0m\n\u001b[0;32m----> 9\u001b[0;31m                 \u001b[0mimgS\u001b[0m\u001b[0;34m=\u001b[0m\u001b[0mimg_extractor\u001b[0m\u001b[0;34m(\u001b[0m\u001b[0mx\u001b[0m\u001b[0;34m[\u001b[0m\u001b[0;34m'source'\u001b[0m\u001b[0;34m]\u001b[0m\u001b[0;34m)\u001b[0m\u001b[0;34m\u001b[0m\u001b[0m\n\u001b[0m\u001b[1;32m     10\u001b[0m                 \u001b[0mimgT\u001b[0m\u001b[0;34m=\u001b[0m\u001b[0mimg_extractor\u001b[0m\u001b[0;34m(\u001b[0m\u001b[0mx\u001b[0m\u001b[0;34m[\u001b[0m\u001b[0;34m'target'\u001b[0m\u001b[0;34m]\u001b[0m\u001b[0;34m)\u001b[0m\u001b[0;34m\u001b[0m\u001b[0m\n\u001b[1;32m     11\u001b[0m                 \u001b[0;31m#print(text_features.shape,imgS.shape,imgT.shape)\u001b[0m\u001b[0;34m\u001b[0m\u001b[0;34m\u001b[0m\u001b[0m\n",
      "\u001b[0;32m~/.local/lib/python3.5/site-packages/tensorflow_core/python/keras/engine/base_layer.py\u001b[0m in \u001b[0;36m__call__\u001b[0;34m(self, inputs, *args, **kwargs)\u001b[0m\n\u001b[1;32m    820\u001b[0m           with base_layer_utils.autocast_context_manager(\n\u001b[1;32m    821\u001b[0m               self._compute_dtype):\n\u001b[0;32m--> 822\u001b[0;31m             \u001b[0moutputs\u001b[0m \u001b[0;34m=\u001b[0m \u001b[0mself\u001b[0m\u001b[0;34m.\u001b[0m\u001b[0mcall\u001b[0m\u001b[0;34m(\u001b[0m\u001b[0mcast_inputs\u001b[0m\u001b[0;34m,\u001b[0m \u001b[0;34m*\u001b[0m\u001b[0margs\u001b[0m\u001b[0;34m,\u001b[0m \u001b[0;34m**\u001b[0m\u001b[0mkwargs\u001b[0m\u001b[0;34m)\u001b[0m\u001b[0;34m\u001b[0m\u001b[0m\n\u001b[0m\u001b[1;32m    823\u001b[0m           \u001b[0mself\u001b[0m\u001b[0;34m.\u001b[0m\u001b[0m_handle_activity_regularization\u001b[0m\u001b[0;34m(\u001b[0m\u001b[0minputs\u001b[0m\u001b[0;34m,\u001b[0m \u001b[0moutputs\u001b[0m\u001b[0;34m)\u001b[0m\u001b[0;34m\u001b[0m\u001b[0m\n\u001b[1;32m    824\u001b[0m           \u001b[0mself\u001b[0m\u001b[0;34m.\u001b[0m\u001b[0m_set_mask_metadata\u001b[0m\u001b[0;34m(\u001b[0m\u001b[0minputs\u001b[0m\u001b[0;34m,\u001b[0m \u001b[0moutputs\u001b[0m\u001b[0;34m,\u001b[0m \u001b[0minput_masks\u001b[0m\u001b[0;34m)\u001b[0m\u001b[0;34m\u001b[0m\u001b[0m\n",
      "\u001b[0;32m~/.local/lib/python3.5/site-packages/tensorflow_core/python/keras/engine/sequential.py\u001b[0m in \u001b[0;36mcall\u001b[0;34m(self, inputs, training, mask)\u001b[0m\n\u001b[1;32m    265\u001b[0m       \u001b[0;32mif\u001b[0m \u001b[0;32mnot\u001b[0m \u001b[0mself\u001b[0m\u001b[0;34m.\u001b[0m\u001b[0mbuilt\u001b[0m\u001b[0;34m:\u001b[0m\u001b[0;34m\u001b[0m\u001b[0m\n\u001b[1;32m    266\u001b[0m         \u001b[0mself\u001b[0m\u001b[0;34m.\u001b[0m\u001b[0m_init_graph_network\u001b[0m\u001b[0;34m(\u001b[0m\u001b[0mself\u001b[0m\u001b[0;34m.\u001b[0m\u001b[0minputs\u001b[0m\u001b[0;34m,\u001b[0m \u001b[0mself\u001b[0m\u001b[0;34m.\u001b[0m\u001b[0moutputs\u001b[0m\u001b[0;34m,\u001b[0m \u001b[0mname\u001b[0m\u001b[0;34m=\u001b[0m\u001b[0mself\u001b[0m\u001b[0;34m.\u001b[0m\u001b[0mname\u001b[0m\u001b[0;34m)\u001b[0m\u001b[0;34m\u001b[0m\u001b[0m\n\u001b[0;32m--> 267\u001b[0;31m       \u001b[0;32mreturn\u001b[0m \u001b[0msuper\u001b[0m\u001b[0;34m(\u001b[0m\u001b[0mSequential\u001b[0m\u001b[0;34m,\u001b[0m \u001b[0mself\u001b[0m\u001b[0;34m)\u001b[0m\u001b[0;34m.\u001b[0m\u001b[0mcall\u001b[0m\u001b[0;34m(\u001b[0m\u001b[0minputs\u001b[0m\u001b[0;34m,\u001b[0m \u001b[0mtraining\u001b[0m\u001b[0;34m=\u001b[0m\u001b[0mtraining\u001b[0m\u001b[0;34m,\u001b[0m \u001b[0mmask\u001b[0m\u001b[0;34m=\u001b[0m\u001b[0mmask\u001b[0m\u001b[0;34m)\u001b[0m\u001b[0;34m\u001b[0m\u001b[0m\n\u001b[0m\u001b[1;32m    268\u001b[0m \u001b[0;34m\u001b[0m\u001b[0m\n\u001b[1;32m    269\u001b[0m     \u001b[0moutputs\u001b[0m \u001b[0;34m=\u001b[0m \u001b[0minputs\u001b[0m  \u001b[0;31m# handle the corner case where self.layers is empty\u001b[0m\u001b[0;34m\u001b[0m\u001b[0m\n",
      "\u001b[0;32m~/.local/lib/python3.5/site-packages/tensorflow_core/python/keras/engine/network.py\u001b[0m in \u001b[0;36mcall\u001b[0;34m(self, inputs, training, mask)\u001b[0m\n\u001b[1;32m    715\u001b[0m     return self._run_internal_graph(\n\u001b[1;32m    716\u001b[0m         \u001b[0minputs\u001b[0m\u001b[0;34m,\u001b[0m \u001b[0mtraining\u001b[0m\u001b[0;34m=\u001b[0m\u001b[0mtraining\u001b[0m\u001b[0;34m,\u001b[0m \u001b[0mmask\u001b[0m\u001b[0;34m=\u001b[0m\u001b[0mmask\u001b[0m\u001b[0;34m,\u001b[0m\u001b[0;34m\u001b[0m\u001b[0m\n\u001b[0;32m--> 717\u001b[0;31m         convert_kwargs_to_constants=base_layer_utils.call_context().saving)\n\u001b[0m\u001b[1;32m    718\u001b[0m \u001b[0;34m\u001b[0m\u001b[0m\n\u001b[1;32m    719\u001b[0m   \u001b[0;32mdef\u001b[0m \u001b[0mcompute_output_shape\u001b[0m\u001b[0;34m(\u001b[0m\u001b[0mself\u001b[0m\u001b[0;34m,\u001b[0m \u001b[0minput_shape\u001b[0m\u001b[0;34m)\u001b[0m\u001b[0;34m:\u001b[0m\u001b[0;34m\u001b[0m\u001b[0m\n",
      "\u001b[0;32m~/.local/lib/python3.5/site-packages/tensorflow_core/python/keras/engine/network.py\u001b[0m in \u001b[0;36m_run_internal_graph\u001b[0;34m(self, inputs, training, mask, convert_kwargs_to_constants)\u001b[0m\n\u001b[1;32m    889\u001b[0m \u001b[0;34m\u001b[0m\u001b[0m\n\u001b[1;32m    890\u001b[0m           \u001b[0;31m# Compute outputs.\u001b[0m\u001b[0;34m\u001b[0m\u001b[0;34m\u001b[0m\u001b[0m\n\u001b[0;32m--> 891\u001b[0;31m           \u001b[0moutput_tensors\u001b[0m \u001b[0;34m=\u001b[0m \u001b[0mlayer\u001b[0m\u001b[0;34m(\u001b[0m\u001b[0mcomputed_tensors\u001b[0m\u001b[0;34m,\u001b[0m \u001b[0;34m**\u001b[0m\u001b[0mkwargs\u001b[0m\u001b[0;34m)\u001b[0m\u001b[0;34m\u001b[0m\u001b[0m\n\u001b[0m\u001b[1;32m    892\u001b[0m \u001b[0;34m\u001b[0m\u001b[0m\n\u001b[1;32m    893\u001b[0m           \u001b[0;31m# Update tensor_dict.\u001b[0m\u001b[0;34m\u001b[0m\u001b[0;34m\u001b[0m\u001b[0m\n",
      "\u001b[0;32m~/.local/lib/python3.5/site-packages/tensorflow_core/python/keras/engine/base_layer.py\u001b[0m in \u001b[0;36m__call__\u001b[0;34m(self, inputs, *args, **kwargs)\u001b[0m\n\u001b[1;32m    820\u001b[0m           with base_layer_utils.autocast_context_manager(\n\u001b[1;32m    821\u001b[0m               self._compute_dtype):\n\u001b[0;32m--> 822\u001b[0;31m             \u001b[0moutputs\u001b[0m \u001b[0;34m=\u001b[0m \u001b[0mself\u001b[0m\u001b[0;34m.\u001b[0m\u001b[0mcall\u001b[0m\u001b[0;34m(\u001b[0m\u001b[0mcast_inputs\u001b[0m\u001b[0;34m,\u001b[0m \u001b[0;34m*\u001b[0m\u001b[0margs\u001b[0m\u001b[0;34m,\u001b[0m \u001b[0;34m**\u001b[0m\u001b[0mkwargs\u001b[0m\u001b[0;34m)\u001b[0m\u001b[0;34m\u001b[0m\u001b[0m\n\u001b[0m\u001b[1;32m    823\u001b[0m           \u001b[0mself\u001b[0m\u001b[0;34m.\u001b[0m\u001b[0m_handle_activity_regularization\u001b[0m\u001b[0;34m(\u001b[0m\u001b[0minputs\u001b[0m\u001b[0;34m,\u001b[0m \u001b[0moutputs\u001b[0m\u001b[0;34m)\u001b[0m\u001b[0;34m\u001b[0m\u001b[0m\n\u001b[1;32m    824\u001b[0m           \u001b[0mself\u001b[0m\u001b[0;34m.\u001b[0m\u001b[0m_set_mask_metadata\u001b[0m\u001b[0;34m(\u001b[0m\u001b[0minputs\u001b[0m\u001b[0;34m,\u001b[0m \u001b[0moutputs\u001b[0m\u001b[0;34m,\u001b[0m \u001b[0minput_masks\u001b[0m\u001b[0;34m)\u001b[0m\u001b[0;34m\u001b[0m\u001b[0m\n",
      "\u001b[0;32m~/.local/lib/python3.5/site-packages/tensorflow_core/python/keras/engine/network.py\u001b[0m in \u001b[0;36mcall\u001b[0;34m(self, inputs, training, mask)\u001b[0m\n\u001b[1;32m    715\u001b[0m     return self._run_internal_graph(\n\u001b[1;32m    716\u001b[0m         \u001b[0minputs\u001b[0m\u001b[0;34m,\u001b[0m \u001b[0mtraining\u001b[0m\u001b[0;34m=\u001b[0m\u001b[0mtraining\u001b[0m\u001b[0;34m,\u001b[0m \u001b[0mmask\u001b[0m\u001b[0;34m=\u001b[0m\u001b[0mmask\u001b[0m\u001b[0;34m,\u001b[0m\u001b[0;34m\u001b[0m\u001b[0m\n\u001b[0;32m--> 717\u001b[0;31m         convert_kwargs_to_constants=base_layer_utils.call_context().saving)\n\u001b[0m\u001b[1;32m    718\u001b[0m \u001b[0;34m\u001b[0m\u001b[0m\n\u001b[1;32m    719\u001b[0m   \u001b[0;32mdef\u001b[0m \u001b[0mcompute_output_shape\u001b[0m\u001b[0;34m(\u001b[0m\u001b[0mself\u001b[0m\u001b[0;34m,\u001b[0m \u001b[0minput_shape\u001b[0m\u001b[0;34m)\u001b[0m\u001b[0;34m:\u001b[0m\u001b[0;34m\u001b[0m\u001b[0m\n",
      "\u001b[0;32m~/.local/lib/python3.5/site-packages/tensorflow_core/python/keras/engine/network.py\u001b[0m in \u001b[0;36m_run_internal_graph\u001b[0;34m(self, inputs, training, mask, convert_kwargs_to_constants)\u001b[0m\n\u001b[1;32m    889\u001b[0m \u001b[0;34m\u001b[0m\u001b[0m\n\u001b[1;32m    890\u001b[0m           \u001b[0;31m# Compute outputs.\u001b[0m\u001b[0;34m\u001b[0m\u001b[0;34m\u001b[0m\u001b[0m\n\u001b[0;32m--> 891\u001b[0;31m           \u001b[0moutput_tensors\u001b[0m \u001b[0;34m=\u001b[0m \u001b[0mlayer\u001b[0m\u001b[0;34m(\u001b[0m\u001b[0mcomputed_tensors\u001b[0m\u001b[0;34m,\u001b[0m \u001b[0;34m**\u001b[0m\u001b[0mkwargs\u001b[0m\u001b[0;34m)\u001b[0m\u001b[0;34m\u001b[0m\u001b[0m\n\u001b[0m\u001b[1;32m    892\u001b[0m \u001b[0;34m\u001b[0m\u001b[0m\n\u001b[1;32m    893\u001b[0m           \u001b[0;31m# Update tensor_dict.\u001b[0m\u001b[0;34m\u001b[0m\u001b[0;34m\u001b[0m\u001b[0m\n",
      "\u001b[0;32m~/.local/lib/python3.5/site-packages/tensorflow_core/python/keras/engine/base_layer.py\u001b[0m in \u001b[0;36m__call__\u001b[0;34m(self, inputs, *args, **kwargs)\u001b[0m\n\u001b[1;32m    820\u001b[0m           with base_layer_utils.autocast_context_manager(\n\u001b[1;32m    821\u001b[0m               self._compute_dtype):\n\u001b[0;32m--> 822\u001b[0;31m             \u001b[0moutputs\u001b[0m \u001b[0;34m=\u001b[0m \u001b[0mself\u001b[0m\u001b[0;34m.\u001b[0m\u001b[0mcall\u001b[0m\u001b[0;34m(\u001b[0m\u001b[0mcast_inputs\u001b[0m\u001b[0;34m,\u001b[0m \u001b[0;34m*\u001b[0m\u001b[0margs\u001b[0m\u001b[0;34m,\u001b[0m \u001b[0;34m**\u001b[0m\u001b[0mkwargs\u001b[0m\u001b[0;34m)\u001b[0m\u001b[0;34m\u001b[0m\u001b[0m\n\u001b[0m\u001b[1;32m    823\u001b[0m           \u001b[0mself\u001b[0m\u001b[0;34m.\u001b[0m\u001b[0m_handle_activity_regularization\u001b[0m\u001b[0;34m(\u001b[0m\u001b[0minputs\u001b[0m\u001b[0;34m,\u001b[0m \u001b[0moutputs\u001b[0m\u001b[0;34m)\u001b[0m\u001b[0;34m\u001b[0m\u001b[0m\n\u001b[1;32m    824\u001b[0m           \u001b[0mself\u001b[0m\u001b[0;34m.\u001b[0m\u001b[0m_set_mask_metadata\u001b[0m\u001b[0;34m(\u001b[0m\u001b[0minputs\u001b[0m\u001b[0;34m,\u001b[0m \u001b[0moutputs\u001b[0m\u001b[0;34m,\u001b[0m \u001b[0minput_masks\u001b[0m\u001b[0;34m)\u001b[0m\u001b[0;34m\u001b[0m\u001b[0m\n",
      "\u001b[0;32m~/.local/lib/python3.5/site-packages/tensorflow_core/python/keras/layers/convolutional.py\u001b[0m in \u001b[0;36mcall\u001b[0;34m(self, inputs)\u001b[0m\n\u001b[1;32m   1844\u001b[0m         \u001b[0mpadding\u001b[0m\u001b[0;34m=\u001b[0m\u001b[0mself\u001b[0m\u001b[0;34m.\u001b[0m\u001b[0mpadding\u001b[0m\u001b[0;34m,\u001b[0m\u001b[0;34m\u001b[0m\u001b[0m\n\u001b[1;32m   1845\u001b[0m         \u001b[0mdilation_rate\u001b[0m\u001b[0;34m=\u001b[0m\u001b[0mself\u001b[0m\u001b[0;34m.\u001b[0m\u001b[0mdilation_rate\u001b[0m\u001b[0;34m,\u001b[0m\u001b[0;34m\u001b[0m\u001b[0m\n\u001b[0;32m-> 1846\u001b[0;31m         data_format=self.data_format)\n\u001b[0m\u001b[1;32m   1847\u001b[0m \u001b[0;34m\u001b[0m\u001b[0m\n\u001b[1;32m   1848\u001b[0m     \u001b[0;32mif\u001b[0m \u001b[0mself\u001b[0m\u001b[0;34m.\u001b[0m\u001b[0muse_bias\u001b[0m\u001b[0;34m:\u001b[0m\u001b[0;34m\u001b[0m\u001b[0m\n",
      "\u001b[0;32m~/.local/lib/python3.5/site-packages/tensorflow_core/python/keras/backend.py\u001b[0m in \u001b[0;36mdepthwise_conv2d\u001b[0;34m(x, depthwise_kernel, strides, padding, data_format, dilation_rate)\u001b[0m\n\u001b[1;32m   5133\u001b[0m       \u001b[0mpadding\u001b[0m\u001b[0;34m=\u001b[0m\u001b[0mpadding\u001b[0m\u001b[0;34m,\u001b[0m\u001b[0;34m\u001b[0m\u001b[0m\n\u001b[1;32m   5134\u001b[0m       \u001b[0mrate\u001b[0m\u001b[0;34m=\u001b[0m\u001b[0mdilation_rate\u001b[0m\u001b[0;34m,\u001b[0m\u001b[0;34m\u001b[0m\u001b[0m\n\u001b[0;32m-> 5135\u001b[0;31m       data_format=tf_data_format)\n\u001b[0m\u001b[1;32m   5136\u001b[0m   \u001b[0;32mif\u001b[0m \u001b[0mdata_format\u001b[0m \u001b[0;34m==\u001b[0m \u001b[0;34m'channels_first'\u001b[0m \u001b[0;32mand\u001b[0m \u001b[0mtf_data_format\u001b[0m \u001b[0;34m==\u001b[0m \u001b[0;34m'NHWC'\u001b[0m\u001b[0;34m:\u001b[0m\u001b[0;34m\u001b[0m\u001b[0m\n\u001b[1;32m   5137\u001b[0m     \u001b[0mx\u001b[0m \u001b[0;34m=\u001b[0m \u001b[0marray_ops\u001b[0m\u001b[0;34m.\u001b[0m\u001b[0mtranspose\u001b[0m\u001b[0;34m(\u001b[0m\u001b[0mx\u001b[0m\u001b[0;34m,\u001b[0m \u001b[0;34m(\u001b[0m\u001b[0;36m0\u001b[0m\u001b[0;34m,\u001b[0m \u001b[0;36m3\u001b[0m\u001b[0;34m,\u001b[0m \u001b[0;36m1\u001b[0m\u001b[0;34m,\u001b[0m \u001b[0;36m2\u001b[0m\u001b[0;34m)\u001b[0m\u001b[0;34m)\u001b[0m  \u001b[0;31m# NHWC -> NCHW\u001b[0m\u001b[0;34m\u001b[0m\u001b[0m\n",
      "\u001b[0;32m~/.local/lib/python3.5/site-packages/tensorflow_core/python/ops/nn_impl.py\u001b[0m in \u001b[0;36mdepthwise_conv2d\u001b[0;34m(input, filter, strides, padding, rate, name, data_format, dilations)\u001b[0m\n\u001b[1;32m    816\u001b[0m         \u001b[0mpadding\u001b[0m\u001b[0;34m=\u001b[0m\u001b[0mpadding\u001b[0m\u001b[0;34m,\u001b[0m\u001b[0;34m\u001b[0m\u001b[0m\n\u001b[1;32m    817\u001b[0m         \u001b[0mdata_format\u001b[0m\u001b[0;34m=\u001b[0m\u001b[0mdata_format\u001b[0m\u001b[0;34m,\u001b[0m\u001b[0;34m\u001b[0m\u001b[0m\n\u001b[0;32m--> 818\u001b[0;31m         op=op)\n\u001b[0m\u001b[1;32m    819\u001b[0m \u001b[0;34m\u001b[0m\u001b[0m\n\u001b[1;32m    820\u001b[0m \u001b[0;34m\u001b[0m\u001b[0m\n",
      "\u001b[0;32m~/.local/lib/python3.5/site-packages/tensorflow_core/python/ops/nn_ops.py\u001b[0m in \u001b[0;36mwith_space_to_batch\u001b[0;34m(input, dilation_rate, padding, op, filter_shape, spatial_dims, data_format)\u001b[0m\n\u001b[1;32m    482\u001b[0m       \u001b[0mspatial_dims\u001b[0m\u001b[0;34m=\u001b[0m\u001b[0mspatial_dims\u001b[0m\u001b[0;34m,\u001b[0m\u001b[0;34m\u001b[0m\u001b[0m\n\u001b[1;32m    483\u001b[0m       data_format=data_format)\n\u001b[0;32m--> 484\u001b[0;31m   \u001b[0;32mreturn\u001b[0m \u001b[0mnew_op\u001b[0m\u001b[0;34m(\u001b[0m\u001b[0minput\u001b[0m\u001b[0;34m,\u001b[0m \u001b[0;32mNone\u001b[0m\u001b[0;34m)\u001b[0m\u001b[0;34m\u001b[0m\u001b[0m\n\u001b[0m\u001b[1;32m    485\u001b[0m \u001b[0;34m\u001b[0m\u001b[0m\n\u001b[1;32m    486\u001b[0m \u001b[0;34m\u001b[0m\u001b[0m\n",
      "\u001b[0;32m~/.local/lib/python3.5/site-packages/tensorflow_core/python/ops/nn_ops.py\u001b[0m in \u001b[0;36m__call__\u001b[0;34m(self, inp, filter)\u001b[0m\n\u001b[1;32m    638\u001b[0m \u001b[0;34m\u001b[0m\u001b[0m\n\u001b[1;32m    639\u001b[0m   \u001b[0;32mdef\u001b[0m \u001b[0m__call__\u001b[0m\u001b[0;34m(\u001b[0m\u001b[0mself\u001b[0m\u001b[0;34m,\u001b[0m \u001b[0minp\u001b[0m\u001b[0;34m,\u001b[0m \u001b[0mfilter\u001b[0m\u001b[0;34m)\u001b[0m\u001b[0;34m:\u001b[0m  \u001b[0;31m# pylint: disable=redefined-builtin\u001b[0m\u001b[0;34m\u001b[0m\u001b[0m\n\u001b[0;32m--> 640\u001b[0;31m     \u001b[0;32mreturn\u001b[0m \u001b[0mself\u001b[0m\u001b[0;34m.\u001b[0m\u001b[0mcall\u001b[0m\u001b[0;34m(\u001b[0m\u001b[0minp\u001b[0m\u001b[0;34m,\u001b[0m \u001b[0mfilter\u001b[0m\u001b[0;34m)\u001b[0m\u001b[0;34m\u001b[0m\u001b[0m\n\u001b[0m\u001b[1;32m    641\u001b[0m \u001b[0;34m\u001b[0m\u001b[0m\n\u001b[1;32m    642\u001b[0m \u001b[0;34m\u001b[0m\u001b[0m\n",
      "\u001b[0;32m~/.local/lib/python3.5/site-packages/tensorflow_core/python/ops/nn_ops.py\u001b[0m in \u001b[0;36m<lambda>\u001b[0;34m(inp, _)\u001b[0m\n\u001b[1;32m    472\u001b[0m \u001b[0;34m\u001b[0m\u001b[0m\n\u001b[1;32m    473\u001b[0m   \u001b[0;32mdef\u001b[0m \u001b[0mbuild_op\u001b[0m\u001b[0;34m(\u001b[0m\u001b[0mnum_spatial_dims\u001b[0m\u001b[0;34m,\u001b[0m \u001b[0mpadding\u001b[0m\u001b[0;34m)\u001b[0m\u001b[0;34m:\u001b[0m\u001b[0;34m\u001b[0m\u001b[0m\n\u001b[0;32m--> 474\u001b[0;31m     \u001b[0;32mreturn\u001b[0m \u001b[0;32mlambda\u001b[0m \u001b[0minp\u001b[0m\u001b[0;34m,\u001b[0m \u001b[0m_\u001b[0m\u001b[0;34m:\u001b[0m \u001b[0mop\u001b[0m\u001b[0;34m(\u001b[0m\u001b[0minp\u001b[0m\u001b[0;34m,\u001b[0m \u001b[0mnum_spatial_dims\u001b[0m\u001b[0;34m,\u001b[0m \u001b[0mpadding\u001b[0m\u001b[0;34m)\u001b[0m\u001b[0;34m\u001b[0m\u001b[0m\n\u001b[0m\u001b[1;32m    475\u001b[0m \u001b[0;34m\u001b[0m\u001b[0m\n\u001b[1;32m    476\u001b[0m   new_op = _WithSpaceToBatch(\n",
      "\u001b[0;32m~/.local/lib/python3.5/site-packages/tensorflow_core/python/ops/nn_impl.py\u001b[0m in \u001b[0;36mop\u001b[0;34m(input_converted, _, padding)\u001b[0m\n\u001b[1;32m    808\u001b[0m           \u001b[0mpadding\u001b[0m\u001b[0;34m=\u001b[0m\u001b[0mpadding\u001b[0m\u001b[0;34m,\u001b[0m\u001b[0;34m\u001b[0m\u001b[0m\n\u001b[1;32m    809\u001b[0m           \u001b[0mdata_format\u001b[0m\u001b[0;34m=\u001b[0m\u001b[0mdata_format\u001b[0m\u001b[0;34m,\u001b[0m\u001b[0;34m\u001b[0m\u001b[0m\n\u001b[0;32m--> 810\u001b[0;31m           name=name)\n\u001b[0m\u001b[1;32m    811\u001b[0m \u001b[0;34m\u001b[0m\u001b[0m\n\u001b[1;32m    812\u001b[0m     return nn_ops.with_space_to_batch(\n",
      "\u001b[0;32m~/.local/lib/python3.5/site-packages/tensorflow_core/python/ops/gen_nn_ops.py\u001b[0m in \u001b[0;36mdepthwise_conv2d_native\u001b[0;34m(input, filter, strides, padding, data_format, dilations, name)\u001b[0m\n\u001b[1;32m   2184\u001b[0m         \u001b[0;32mraise\u001b[0m\u001b[0;34m\u001b[0m\u001b[0m\n\u001b[1;32m   2185\u001b[0m     \u001b[0;32mexcept\u001b[0m \u001b[0m_core\u001b[0m\u001b[0;34m.\u001b[0m\u001b[0m_NotOkStatusException\u001b[0m \u001b[0;32mas\u001b[0m \u001b[0me\u001b[0m\u001b[0;34m:\u001b[0m\u001b[0;34m\u001b[0m\u001b[0m\n\u001b[0;32m-> 2186\u001b[0;31m       \u001b[0m_ops\u001b[0m\u001b[0;34m.\u001b[0m\u001b[0mraise_from_not_ok_status\u001b[0m\u001b[0;34m(\u001b[0m\u001b[0me\u001b[0m\u001b[0;34m,\u001b[0m \u001b[0mname\u001b[0m\u001b[0;34m)\u001b[0m\u001b[0;34m\u001b[0m\u001b[0m\n\u001b[0m\u001b[1;32m   2187\u001b[0m   \u001b[0;31m# Add nodes to the TensorFlow graph.\u001b[0m\u001b[0;34m\u001b[0m\u001b[0;34m\u001b[0m\u001b[0m\n\u001b[1;32m   2188\u001b[0m   \u001b[0;32mif\u001b[0m \u001b[0;32mnot\u001b[0m \u001b[0misinstance\u001b[0m\u001b[0;34m(\u001b[0m\u001b[0mstrides\u001b[0m\u001b[0;34m,\u001b[0m \u001b[0;34m(\u001b[0m\u001b[0mlist\u001b[0m\u001b[0;34m,\u001b[0m \u001b[0mtuple\u001b[0m\u001b[0;34m)\u001b[0m\u001b[0;34m)\u001b[0m\u001b[0;34m:\u001b[0m\u001b[0;34m\u001b[0m\u001b[0m\n",
      "\u001b[0;32m~/.local/lib/python3.5/site-packages/tensorflow_core/python/framework/ops.py\u001b[0m in \u001b[0;36mraise_from_not_ok_status\u001b[0;34m(e, name)\u001b[0m\n\u001b[1;32m   6604\u001b[0m   \u001b[0mmessage\u001b[0m \u001b[0;34m=\u001b[0m \u001b[0me\u001b[0m\u001b[0;34m.\u001b[0m\u001b[0mmessage\u001b[0m \u001b[0;34m+\u001b[0m \u001b[0;34m(\u001b[0m\u001b[0;34m\" name: \"\u001b[0m \u001b[0;34m+\u001b[0m \u001b[0mname\u001b[0m \u001b[0;32mif\u001b[0m \u001b[0mname\u001b[0m \u001b[0;32mis\u001b[0m \u001b[0;32mnot\u001b[0m \u001b[0;32mNone\u001b[0m \u001b[0;32melse\u001b[0m \u001b[0;34m\"\"\u001b[0m\u001b[0;34m)\u001b[0m\u001b[0;34m\u001b[0m\u001b[0m\n\u001b[1;32m   6605\u001b[0m   \u001b[0;31m# pylint: disable=protected-access\u001b[0m\u001b[0;34m\u001b[0m\u001b[0;34m\u001b[0m\u001b[0m\n\u001b[0;32m-> 6606\u001b[0;31m   \u001b[0msix\u001b[0m\u001b[0;34m.\u001b[0m\u001b[0mraise_from\u001b[0m\u001b[0;34m(\u001b[0m\u001b[0mcore\u001b[0m\u001b[0;34m.\u001b[0m\u001b[0m_status_to_exception\u001b[0m\u001b[0;34m(\u001b[0m\u001b[0me\u001b[0m\u001b[0;34m.\u001b[0m\u001b[0mcode\u001b[0m\u001b[0;34m,\u001b[0m \u001b[0mmessage\u001b[0m\u001b[0;34m)\u001b[0m\u001b[0;34m,\u001b[0m \u001b[0;32mNone\u001b[0m\u001b[0;34m)\u001b[0m\u001b[0;34m\u001b[0m\u001b[0m\n\u001b[0m\u001b[1;32m   6607\u001b[0m   \u001b[0;31m# pylint: enable=protected-access\u001b[0m\u001b[0;34m\u001b[0m\u001b[0;34m\u001b[0m\u001b[0m\n\u001b[1;32m   6608\u001b[0m \u001b[0;34m\u001b[0m\u001b[0m\n",
      "\u001b[0;32m/usr/local/lib/python3.5/dist-packages/six.py\u001b[0m in \u001b[0;36mraise_from\u001b[0;34m(value, from_value)\u001b[0m\n",
      "\u001b[0;31mResourceExhaustedError\u001b[0m: OOM when allocating tensor with shape[32,56,56,96] and type float on /job:localhost/replica:0/task:0/device:GPU:0 by allocator GPU_0_bfc [Op:DepthwiseConv2dNative] name: sequential_12/mobilenetv2_1.00_224/block_1_depthwise/depthwise/"
     ]
    }
   ],
   "source": [
    "EPOCHS = 20\n",
    "num_steps=19000\n",
    "for epoch in range(EPOCHS):\n",
    "    start = time.time()\n",
    "    total_loss = 0\n",
    "    batchloss = 0\n",
    "    print(\"Epoch\",epoch,)\n",
    "    for (batch, x) in enumerate(image_dataset):\n",
    "        t_loss = train_step(x)\n",
    "        batchloss+=t_loss\n",
    "        total_loss += t_loss\n",
    "\n",
    "        if batch % 100 == 0:\n",
    "#             print(t_loss)\n",
    "            print ('Epoch {} Batch {}'.format(\n",
    "              epoch + 1, batch))\n",
    "            print(batchloss)\n",
    "            batchloss=0\n",
    "    # storing the epoch end loss value to plot later\n",
    "    loss_plot.append(total_loss / num_steps)\n",
    "    if epoch%5==1:\n",
    "        tests = []\n",
    "        for name, dataset in [ ('test', testset)]:\n",
    "            t = test(opt, TIRGmodel,img_extractor,text_model, dataset)\n",
    "            tests += [(name + ' ' + metric_name, metric_value)\n",
    "                      for metric_name, metric_value in t]\n",
    "        for metric_name, metric_value in tests:\n",
    "            print ('    ', metric_name, round(metric_value, 4))\n",
    "            \n",
    "    print ('Epoch {} Loss {:.6f}'.format(epoch + 1,\n",
    "                                         total_loss/num_steps))\n",
    "    print ('Time taken for 1 epoch {} sec\\n'.format(time.time() - start))"
   ]
  },
  {
   "cell_type": "code",
   "execution_count": null,
   "metadata": {
    "collapsed": false
   },
   "outputs": [],
   "source": [
    "EPOCHS = 20\n",
    "num_steps=19000\n",
    "for epoch in range(EPOCHS):\n",
    "    start = time.time()\n",
    "    total_loss = 0\n",
    "    batchloss = 0\n",
    "    print(\"Epoch\",epoch,)\n",
    "    for (batch, x) in enumerate(image_dataset):\n",
    "        t_loss = train_step(x)\n",
    "        batchloss+=t_loss\n",
    "        total_loss += t_loss\n",
    "\n",
    "        if batch % 100 == 0:\n",
    "#             print(t_loss)\n",
    "            print ('Epoch {} Batch {}'.format(\n",
    "              epoch + 1, batch))\n",
    "            print(batchloss)\n",
    "            batchloss=0\n",
    "    # storing the epoch end loss value to plot later\n",
    "    loss_plot.append(total_loss / num_steps)\n",
    "    if epoch%5==1:\n",
    "        tests = []\n",
    "        for name, dataset in [ ('test', testset)]:\n",
    "            t = test(opt, TIRGmodel,img_extractor,text_model, dataset)\n",
    "            tests += [(name + ' ' + metric_name, metric_value)\n",
    "                      for metric_name, metric_value in t]\n",
    "        for metric_name, metric_value in tests:\n",
    "            print ('    ', metric_name, round(metric_value, 4))\n",
    "            \n",
    "    print ('Epoch {} Loss {:.6f}'.format(epoch + 1,\n",
    "                                         total_loss/num_steps))\n",
    "    print ('Time taken for 1 epoch {} sec\\n'.format(time.time() - start))"
   ]
  },
  {
   "cell_type": "code",
   "execution_count": null,
   "metadata": {
    "collapsed": false
   },
   "outputs": [],
   "source": [
    "\n",
    "plt.plot(loss_plot)"
   ]
  },
  {
   "cell_type": "code",
   "execution_count": null,
   "metadata": {
    "collapsed": true
   },
   "outputs": [],
   "source": [
    "loss_plot=[]"
   ]
  },
  {
   "cell_type": "code",
   "execution_count": null,
   "metadata": {
    "collapsed": true
   },
   "outputs": [],
   "source": [
    "TIRGmodel.save_weights('/home/alinsteinjose/alin/project/Image_text_retrival/Tensorflow_TIRG_model')\n",
    "text_model.save_weights('/home/alinsteinjose/alin/project/Image_text_retrival/Tensorflow_TXT_model')\n",
    "img_extractor.save_weights('/home/alinsteinjose/alin/project/Image_text_retrival/Tensorflow_IMG_model')\n"
   ]
  },
  {
   "cell_type": "code",
   "execution_count": null,
   "metadata": {
    "collapsed": true
   },
   "outputs": [],
   "source": [
    "# Create a new model instance\n",
    "model = create_model()\n",
    "\n",
    "# Restore the weights\n",
    "model.load_weights('./checkpoints/my_checkpoint')"
   ]
  }
 ],
 "metadata": {
  "kernelspec": {
   "display_name": "Python 3",
   "language": "python",
   "name": "python3"
  },
  "language_info": {
   "codemirror_mode": {
    "name": "ipython",
    "version": 3
   },
   "file_extension": ".py",
   "mimetype": "text/x-python",
   "name": "python",
   "nbconvert_exporter": "python",
   "pygments_lexer": "ipython3",
   "version": "3.5.3"
  }
 },
 "nbformat": 4,
 "nbformat_minor": 0
}
